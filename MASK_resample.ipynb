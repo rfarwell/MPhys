{
 "cells": [
  {
   "cell_type": "code",
   "execution_count": 95,
   "metadata": {},
   "outputs": [
    {
     "name": "stdout",
     "output_type": "stream",
     "text": [
      "Finished importing libraries.\n"
     ]
    }
   ],
   "source": [
    "\"\"\"\n",
    "In this attempt, I will not attempt to resample the RTSTRUCT fie but will try to resample\n",
    "the array produced, by the rt_utils library, from the RTSTRUCT file\n",
    "\"\"\"\n",
    "import rt_utils\n",
    "import sys\n",
    "import numpy as np\n",
    "from rt_utils import RTStructBuilder\n",
    "import matplotlib.pyplot as plt\n",
    "import SimpleITK as sitk\n",
    "reader = sitk.ImageSeriesReader()\n",
    "print(\"Finished importing libraries.\")"
   ]
  },
  {
   "cell_type": "code",
   "execution_count": 97,
   "metadata": {},
   "outputs": [
    {
     "name": "stdout",
     "output_type": "stream",
     "text": [
      "<rt_utils.rtstruct.RTStruct object at 0x15da98f10>\n",
      "The ROI names in this RTSTRUCT are:\n",
      "['GTV-1', 'Spinal-Cord', 'Lung-Left', 'Lung-Right']\n"
     ]
    }
   ],
   "source": [
    "\"\"\"\n",
    "The code in this cell loads in a DICOM series from 'dicom_series_path' and loads in an RTSTRUCT\n",
    "file from 'rt_struct_path'. The user should make sure the RTSTRUCT file selected is the one that\n",
    "corresponds to the chosen DICOM series. e.g. in this case both files used are for the LUNG1-001\n",
    "data set.\n",
    "\n",
    "The code then prints the Region Of Interest (ROI) names for the user to choose from in \n",
    "the next cell.\n",
    "\"\"\"\n",
    "\n",
    "rtstruct = RTStructBuilder.create_from(\n",
    "  dicom_series_path=\"/Users/roryfarwell/Documents/University/Year4/MPhys/DataOrg/LUNG1-001/-CT/\", \n",
    "  rt_struct_path=\"/Users/roryfarwell/Documents/University/Year4/MPhys/DataOrg/LUNG1-001/RTSTRUCT/3-2.dcm\"\n",
    ")\n",
    "\n",
    "print(rtstruct)\n",
    "print(\"The ROI names in this RTSTRUCT are:\")\n",
    "print(rtstruct.get_roi_names())"
   ]
  },
  {
   "cell_type": "code",
   "execution_count": 98,
   "metadata": {},
   "outputs": [
    {
     "name": "stdout",
     "output_type": "stream",
     "text": [
      "[[[False False False ... False False False]\n",
      "  [False False False ... False False False]\n",
      "  [False False False ... False False False]\n",
      "  ...\n",
      "  [False False False ... False False False]\n",
      "  [False False False ... False False False]\n",
      "  [False False False ... False False False]]\n",
      "\n",
      " [[False False False ... False False False]\n",
      "  [False False False ... False False False]\n",
      "  [False False False ... False False False]\n",
      "  ...\n",
      "  [False False False ... False False False]\n",
      "  [False False False ... False False False]\n",
      "  [False False False ... False False False]]\n",
      "\n",
      " [[False False False ... False False False]\n",
      "  [False False False ... False False False]\n",
      "  [False False False ... False False False]\n",
      "  ...\n",
      "  [False False False ... False False False]\n",
      "  [False False False ... False False False]\n",
      "  [False False False ... False False False]]\n",
      "\n",
      " ...\n",
      "\n",
      " [[False False False ... False False False]\n",
      "  [False False False ... False False False]\n",
      "  [False False False ... False False False]\n",
      "  ...\n",
      "  [False False False ... False False False]\n",
      "  [False False False ... False False False]\n",
      "  [False False False ... False False False]]\n",
      "\n",
      " [[False False False ... False False False]\n",
      "  [False False False ... False False False]\n",
      "  [False False False ... False False False]\n",
      "  ...\n",
      "  [False False False ... False False False]\n",
      "  [False False False ... False False False]\n",
      "  [False False False ... False False False]]\n",
      "\n",
      " [[False False False ... False False False]\n",
      "  [False False False ... False False False]\n",
      "  [False False False ... False False False]\n",
      "  ...\n",
      "  [False False False ... False False False]\n",
      "  [False False False ... False False False]\n",
      "  [False False False ... False False False]]]\n"
     ]
    }
   ],
   "source": [
    "\"\"\"\n",
    "The code in this cell allows the user to choose the ROI which they wish the code to mask\n",
    "\"\"\"\n",
    "# Loading the 3D Mask from within the RT Struct\n",
    "mask_3d = rtstruct.get_roi_mask_by_name(\"GTV-1\") #Put in the name of the ROI\n",
    "\n",
    "#print(mask_3d)"
   ]
  },
  {
   "cell_type": "code",
   "execution_count": 99,
   "metadata": {},
   "outputs": [
    {
     "name": "stdout",
     "output_type": "stream",
     "text": [
      "134\n"
     ]
    },
    {
     "data": {
      "image/png": "[encoded data removed]",
      "text/plain": [
       "<Figure size 432x288 with 1 Axes>"
      ]
     },
     "metadata": {
      "needs_background": "light"
     },
     "output_type": "display_data"
    }
   ],
   "source": [
    "\"\"\"\n",
    "DOES NOT NEED TO BE RUN\n",
    "The code in this cell produces a plot of a user-selected slice. In the plot the ROI will appear\n",
    "yellow, and non-ROI will appear purple. Want to change this to black-and-white at some point.\n",
    "\"\"\"\n",
    "# Display one slice of the region\n",
    "mask_3d = mask_3d + 1\n",
    "mask_3d = mask_3d - 1 \n",
    "irst_mask_slice = mask_3d[:, :, 80] #the number defines which slice will be displayed\n",
    "print(mask_3d.shape[2]) #prints the number of slices in the image (will be used when making an interactive plot)\n",
    "plt.imshow(first_mask_slice)\n",
    "plt.show()"
   ]
  },
  {
   "cell_type": "code",
   "execution_count": 100,
   "metadata": {},
   "outputs": [
    {
     "name": "stdout",
     "output_type": "stream",
     "text": [
      "[[[0 0 0 ... 0 0 0]\n",
      "  [0 0 0 ... 0 0 0]\n",
      "  [0 0 0 ... 0 0 0]\n",
      "  ...\n",
      "  [0 0 0 ... 0 0 0]\n",
      "  [0 0 0 ... 0 0 0]\n",
      "  [0 0 0 ... 0 0 0]]\n",
      "\n",
      " [[0 0 0 ... 0 0 0]\n",
      "  [0 0 0 ... 0 0 0]\n",
      "  [0 0 0 ... 0 0 0]\n",
      "  ...\n",
      "  [0 0 0 ... 0 0 0]\n",
      "  [0 0 0 ... 0 0 0]\n",
      "  [0 0 0 ... 0 0 0]]\n",
      "\n",
      " [[0 0 0 ... 0 0 0]\n",
      "  [0 0 0 ... 0 0 0]\n",
      "  [0 0 0 ... 0 0 0]\n",
      "  ...\n",
      "  [0 0 0 ... 0 0 0]\n",
      "  [0 0 0 ... 0 0 0]\n",
      "  [0 0 0 ... 0 0 0]]\n",
      "\n",
      " ...\n",
      "\n",
      " [[0 0 0 ... 0 0 0]\n",
      "  [0 0 0 ... 0 0 0]\n",
      "  [0 0 0 ... 0 0 0]\n",
      "  ...\n",
      "  [0 0 0 ... 0 0 0]\n",
      "  [0 0 0 ... 0 0 0]\n",
      "  [0 0 0 ... 0 0 0]]\n",
      "\n",
      " [[0 0 0 ... 0 0 0]\n",
      "  [0 0 0 ... 0 0 0]\n",
      "  [0 0 0 ... 0 0 0]\n",
      "  ...\n",
      "  [0 0 0 ... 0 0 0]\n",
      "  [0 0 0 ... 0 0 0]\n",
      "  [0 0 0 ... 0 0 0]]\n",
      "\n",
      " [[0 0 0 ... 0 0 0]\n",
      "  [0 0 0 ... 0 0 0]\n",
      "  [0 0 0 ... 0 0 0]\n",
      "  ...\n",
      "  [0 0 0 ... 0 0 0]\n",
      "  [0 0 0 ... 0 0 0]\n",
      "  [0 0 0 ... 0 0 0]]]\n"
     ]
    }
   ],
   "source": [
    "\"\"\"\n",
    "We now have a 3d array which can be used to plot an image we can try to resample this array.\n",
    "\"\"\"\n",
    "mask_3d = rtstruct.get_roi_mask_by_name(\"GTV-1\") #Put in the name of the ROI\n",
    "\n",
    "\"\"\"\n",
    "The two lines below convert the array from dtype = bool to dtype = int64\n",
    "I don't think this is necesary.\n",
    "\"\"\"\n",
    "mask_3d = mask_3d + 1 \n",
    "mask_3d = mask_3d - 1\n",
    "\n",
    "\n",
    "print(mask_3d)\n"
   ]
  },
  {
   "cell_type": "code",
   "execution_count": 79,
   "metadata": {},
   "outputs": [
    {
     "name": "stdout",
     "output_type": "stream",
     "text": [
      "(1.0, 0.0, 0.0, 0.0, 1.0, 0.0, 0.0, 0.0, 1.0)\n",
      "True\n"
     ]
    },
    {
     "ename": "TypeError",
     "evalue": "Wrong number or type of arguments for overloaded function 'ImageFileWriter_Execute'.\n  Possible C/C++ prototypes are:\n    itk::simple::ImageFileWriter::Execute(itk::simple::Image const &)\n    itk::simple::ImageFileWriter::Execute(itk::simple::Image const &,std::string const &,bool,int)\n",
     "output_type": "error",
     "traceback": [
      "\u001b[0;31m---------------------------------------------------------------------------\u001b[0m",
      "\u001b[0;31mTypeError\u001b[0m                                 Traceback (most recent call last)",
      "\u001b[0;32m/var/folders/t4/wh85h3l536b8ytg_0sgx5mpw0000gn/T/ipykernel_54088/336712493.py\u001b[0m in \u001b[0;36m<module>\u001b[0;34m\u001b[0m\n\u001b[1;32m     19\u001b[0m \u001b[0mvolume\u001b[0m \u001b[0;34m=\u001b[0m \u001b[0mimg\u001b[0m\u001b[0;34m\u001b[0m\u001b[0;34m\u001b[0m\u001b[0m\n\u001b[1;32m     20\u001b[0m \u001b[0mx\u001b[0m\u001b[0;34m=\u001b[0m\u001b[0mresample_volume\u001b[0m\u001b[0;34m(\u001b[0m\u001b[0mvolume\u001b[0m\u001b[0;34m)\u001b[0m\u001b[0;34m\u001b[0m\u001b[0;34m\u001b[0m\u001b[0m\n\u001b[0;32m---> 21\u001b[0;31m \u001b[0msitk\u001b[0m\u001b[0;34m.\u001b[0m\u001b[0mWriteImage\u001b[0m\u001b[0;34m(\u001b[0m\u001b[0mx\u001b[0m\u001b[0;34m,\u001b[0m \u001b[0;34m\"/Users/roryfarwell/Documents/University/Year4/MPhys/DataOrg/LUNG1-001/RTSTRUCT_resample/3-2.nii\"\u001b[0m\u001b[0;34m)\u001b[0m\u001b[0;34m\u001b[0m\u001b[0;34m\u001b[0m\u001b[0m\n\u001b[0m\u001b[1;32m     22\u001b[0m \u001b[0;34m\u001b[0m\u001b[0m\n\u001b[1;32m     23\u001b[0m \u001b[0;34m\u001b[0m\u001b[0m\n",
      "\u001b[0;32m~/anaconda3/envs/python38/lib/python3.8/site-packages/SimpleITK/extra.py\u001b[0m in \u001b[0;36mWriteImage\u001b[0;34m(image, fileName, useCompression, compressionLevel, imageIO, compressor)\u001b[0m\n\u001b[1;32m    392\u001b[0m     \u001b[0mwriter\u001b[0m\u001b[0;34m.\u001b[0m\u001b[0mSetImageIO\u001b[0m\u001b[0;34m(\u001b[0m\u001b[0mimageIO\u001b[0m\u001b[0;34m)\u001b[0m\u001b[0;34m\u001b[0m\u001b[0;34m\u001b[0m\u001b[0m\n\u001b[1;32m    393\u001b[0m     \u001b[0mwriter\u001b[0m\u001b[0;34m.\u001b[0m\u001b[0mSetCompressor\u001b[0m\u001b[0;34m(\u001b[0m\u001b[0mcompressor\u001b[0m\u001b[0;34m)\u001b[0m\u001b[0;34m\u001b[0m\u001b[0;34m\u001b[0m\u001b[0m\n\u001b[0;32m--> 394\u001b[0;31m     \u001b[0;32mreturn\u001b[0m \u001b[0mwriter\u001b[0m\u001b[0;34m.\u001b[0m\u001b[0mExecute\u001b[0m\u001b[0;34m(\u001b[0m\u001b[0mimage\u001b[0m\u001b[0;34m)\u001b[0m\u001b[0;34m\u001b[0m\u001b[0;34m\u001b[0m\u001b[0m\n\u001b[0m\u001b[1;32m    395\u001b[0m \u001b[0;34m\u001b[0m\u001b[0m\n\u001b[1;32m    396\u001b[0m \u001b[0;34m\u001b[0m\u001b[0m\n",
      "\u001b[0;32m~/anaconda3/envs/python38/lib/python3.8/site-packages/SimpleITK/SimpleITK.py\u001b[0m in \u001b[0;36mExecute\u001b[0;34m(self, *args)\u001b[0m\n\u001b[1;32m   7501\u001b[0m \u001b[0;34m\u001b[0m\u001b[0m\n\u001b[1;32m   7502\u001b[0m         \"\"\"\n\u001b[0;32m-> 7503\u001b[0;31m         \u001b[0;32mreturn\u001b[0m \u001b[0m_SimpleITK\u001b[0m\u001b[0;34m.\u001b[0m\u001b[0mImageFileWriter_Execute\u001b[0m\u001b[0;34m(\u001b[0m\u001b[0mself\u001b[0m\u001b[0;34m,\u001b[0m \u001b[0;34m*\u001b[0m\u001b[0margs\u001b[0m\u001b[0;34m)\u001b[0m\u001b[0;34m\u001b[0m\u001b[0;34m\u001b[0m\u001b[0m\n\u001b[0m\u001b[1;32m   7504\u001b[0m \u001b[0;34m\u001b[0m\u001b[0m\n\u001b[1;32m   7505\u001b[0m \u001b[0;31m# Register ImageFileWriter in _SimpleITK:\u001b[0m\u001b[0;34m\u001b[0m\u001b[0;34m\u001b[0m\u001b[0;34m\u001b[0m\u001b[0m\n",
      "\u001b[0;31mTypeError\u001b[0m: Wrong number or type of arguments for overloaded function 'ImageFileWriter_Execute'.\n  Possible C/C++ prototypes are:\n    itk::simple::ImageFileWriter::Execute(itk::simple::Image const &)\n    itk::simple::ImageFileWriter::Execute(itk::simple::Image const &,std::string const &,bool,int)\n"
     ]
    }
   ],
   "source": [
    "img = sitk.GetImageFromArray(mask_3d)\n",
    "# print(img.GetDirection())\n",
    "\n",
    "# if sitk.GetArrayFromImage(img).all() == mask_3d.all() :\n",
    "#     print('True')\n",
    "\n",
    "# def resample_volume(volume, interpolator = sitk.sitkNearestNeighbor):\n",
    "#     new_size = [512, 512, 256]\n",
    "#     resample = sitk.ResampleImageFilter()\n",
    "#     resample.SetInterpolator(interpolator)\n",
    "#     resample.SetOutputDirection(volume.GetDirection())\n",
    "#     resample.SetOutputOrigin(volume.GetOrigin())\n",
    "#     resample.SetSize(new_size)\n",
    "#     resample.SetOutputSpacing([1, 1, 4])\n",
    "#     resample.SetDefaultPixelValue(-1024)\n",
    "\n",
    "\n",
    "# reader = sitk.ImageSeriesReader()\n",
    "# volume = img\n",
    "# x=resample_volume(volume)\n",
    "# sitk.WriteImage(x, \"/Users/roryfarwell/Documents/University/Year4/MPhys/DataOrg/LUNG1-001/RTSTRUCT_resample/3-2.nii\")\n",
    "\n",
    "\n",
    "# \"\"\"\n",
    "# https://www.programcreek.com/python/example/123390/SimpleITK.ResampleImageFilter example 4\n",
    "# \"\"\"\n",
    "# def resample_image(itk_image, is_label=True):\n",
    "#     original_spacing = itk_image.GetSpacing()\n",
    "#     original_size = itk_image.GetSize()\n",
    "\n",
    "#     out_size = [int(np.round(original_size[0] * (original_spacing[0] / out_spacing[0]))),\n",
    "#                 int(np.round(original_size[1] * (original_spacing[1] / out_spacing[1]))),\n",
    "#                 int(np.round(original_size[2] * (original_spacing[2] / out_spacing[2])))]\n",
    "\n",
    "#     resample = sitk.ResampleImageFilter()\n",
    "#     resample.SetOutputSpacing([1,1,4])\n",
    "#     resample.SetSize(out_size)\n",
    "#     resample.SetOutputDirection(itk_image.GetDirection())\n",
    "#     resample.SetOutputOrigin(itk_image.GetOrigin())\n",
    "#     resample.SetTransform(sitk.Transform())\n",
    "#     resample.SetDefaultPixelValue(itk_image.GetPixelIDValue())\n",
    "\n",
    "#     if is_label:\n",
    "#         resample.SetInterpolator(sitk.sitkNearestNeighbor)\n",
    "#     else:\n",
    "#         resample.SetInterpolator(sitk.sitkBSpline)\n",
    "\n",
    "#     return resample.Execute(itk_image) \n",
    "\n",
    "\n"
   ]
  },
  {
   "cell_type": "code",
   "execution_count": 104,
   "metadata": {},
   "outputs": [
    {
     "name": "stdout",
     "output_type": "stream",
     "text": [
      "001\n",
      "1\n",
      "print(volume):\n",
      "Image (0x7f9551de0770)\n",
      "  RTTI typeinfo:   itk::Image<int, 3u>\n",
      "  Reference Count: 1\n",
      "  Modified Time: 99768\n",
      "  Debug: Off\n",
      "  Object Name: \n",
      "  Observers: \n",
      "    none\n",
      "  Source: (none)\n",
      "  Source output name: (none)\n",
      "  Release Data: Off\n",
      "  Data Released: False\n",
      "  Global Release Data: Off\n",
      "  PipelineMTime: 95142\n",
      "  UpdateMTime: 99767\n",
      "  RealTimeStamp: 0 seconds \n",
      "  LargestPossibleRegion: \n",
      "    Dimension: 3\n",
      "    Index: [0, 0, 0]\n",
      "    Size: [512, 512, 134]\n",
      "  BufferedRegion: \n",
      "    Dimension: 3\n",
      "    Index: [0, 0, 0]\n",
      "    Size: [512, 512, 134]\n",
      "  RequestedRegion: \n",
      "    Dimension: 3\n",
      "    Index: [0, 0, 0]\n",
      "    Size: [512, 512, 134]\n",
      "  Spacing: [0.976562, 0.976562, 3]\n",
      "  Origin: [-249.512, -460.512, -681.5]\n",
      "  Direction: \n",
      "1 0 0\n",
      "0 1 0\n",
      "0 0 1\n",
      "\n",
      "  IndexToPointMatrix: \n",
      "0.976562 0 0\n",
      "0 0.976562 0\n",
      "0 0 3\n",
      "\n",
      "  PointToIndexMatrix: \n",
      "1.024 0 0\n",
      "0 1.024 0\n",
      "0 0 0.333333\n",
      "\n",
      "  Inverse Direction: \n",
      "1 0 0\n",
      "0 1 0\n",
      "0 0 1\n",
      "\n",
      "  PixelContainer: \n",
      "    ImportImageContainer (0x7f9551de0a20)\n",
      "      RTTI typeinfo:   itk::ImportImageContainer<unsigned long, int>\n",
      "      Reference Count: 1\n",
      "      Modified Time: 95207\n",
      "      Debug: Off\n",
      "      Object Name: \n",
      "      Observers: \n",
      "        none\n",
      "      Pointer: 0x15dad3000\n",
      "      Container manages memory: true\n",
      "      Size: 35127296\n",
      "      Capacity: 35127296\n",
      "\n",
      "(0.9765625, 0.9765625, 3.0)\n"
     ]
    }
   ],
   "source": [
    "import os\n",
    "\n",
    "def resample_volume(volume, interpolator = sitk.sitkNearestNeighbor):\n",
    "    new_size = [512, 512, 256]\n",
    "    resample = sitk.ResampleImageFilter()\n",
    "    resample.SetInterpolator(interpolator)\n",
    "    resample.SetOutputDirection(volume.GetDirection())\n",
    "    resample.SetOutputOrigin(volume.GetOrigin())\n",
    "    resample.SetSize(new_size)\n",
    "    resample.SetOutputSpacing([1, 1, 4])\n",
    "    resample.SetDefaultPixelValue(-1024)\n",
    "\n",
    "    return resample.Execute(volume)\n",
    "\n",
    "\n",
    "directory = '/Users/roryfarwell/Documents/University/Year4/MPhys/DataOrg/LUNG1-001/CT'\n",
    "output_file = '/Users/roryfarwell/Documents/University/Year4/MPhys/DataOrg/LUNG1-001/CT-resampled'\n",
    "\n",
    "\n",
    "filepath = '/Users/roryfarwell/Documents/University/Year4/MPhys/DataOrg/LUNG1-001'\n",
    "\n",
    "number_of_patient = 0\n",
    "\n",
    "for filename in os.listdir(filepath) :\n",
    "    if \"-CT\" in filename :\n",
    "        reader = sitk.ImageSeriesReader()\n",
    "        dcm_paths = reader.GetGDCMSeriesFileNames(os.path.join(filepath, filename))\n",
    "\n",
    "        reader.SetFileNames(dcm_paths)\n",
    "        volume = sitk.ReadImage(dcm_paths)\n",
    "        number_of_patient +=1\n",
    "        _3_digit_number_of_patient = '{0:03}'.format(number_of_patient)\n",
    "        print(_3_digit_number_of_patient)\n",
    "        print(number_of_patient)\n",
    "        x = resample_volume(volume)\n",
    "        sitk.WriteImage(x, \"/Users/roryfarwell/Documents/University/Year4/MPhys/DataOrg/LUNG1-001/resampled/LUNG1-001-resampled.nii\")\n",
    "\n",
    "print('print(volume):')\n",
    "print(volume)\n",
    "print(volume.GetSpacing())\n"
   ]
  },
  {
   "cell_type": "code",
   "execution_count": 105,
   "metadata": {},
   "outputs": [
    {
     "name": "stdout",
     "output_type": "stream",
     "text": [
      "print(x):\n",
      "(1.0, 1.0, 4.0)\n"
     ]
    }
   ],
   "source": [
    "print('print(x):')\n",
    "print(x.GetSpacing())"
   ]
  }
 ],
 "metadata": {
  "interpreter": {
   "hash": "1af5c7ba4dee4ee8110c722f91ce888b02ee92b167dae2041da9217f1597362a"
  },
  "kernelspec": {
   "display_name": "Python 3.8.12 64-bit ('python38': conda)",
   "name": "python3"
  },
  "language_info": {
   "codemirror_mode": {
    "name": "ipython",
    "version": 3
   },
   "file_extension": ".py",
   "mimetype": "text/x-python",
   "name": "python",
   "nbconvert_exporter": "python",
   "pygments_lexer": "ipython3",
   "version": "3.8.12"
  },
  "orig_nbformat": 4
 },
 "nbformat": 4,
 "nbformat_minor": 2
}

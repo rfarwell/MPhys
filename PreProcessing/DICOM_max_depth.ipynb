{
 "cells": [
  {
   "cell_type": "code",
   "execution_count": 1,
   "metadata": {},
   "outputs": [],
   "source": [
    "from __future__ import print_function\n",
    "import SimpleITK as sitk\n",
    "import sys\n",
    "import os\n",
    "import matplotlib.pyplot as plt\n",
    "import numpy as np\n",
    "reader = sitk.ImageSeriesReader()"
   ]
  },
  {
   "cell_type": "code",
   "execution_count": 2,
   "metadata": {},
   "outputs": [],
   "source": [
    "\"\"\"Defining the start of the path name to where my files are (this depends on your path and the\n",
    "   naming scheme you used when using dicomsort.py)\"\"\"\n",
    "directory = '/Volumes/Extreme_SSD/MPhys/TCIA_Data/NSCLC-Radiomics/NSCLC_Sorted/LUNG1-'\n",
    "\n",
    "\n",
    "\"\"\"defining the number of iterations the for loop will perform. +1 is due to the range function\"\"\"\n",
    "number_of_iterations = 422+1 #I want to make this so that the program can read the number of series in the chosen directory\n",
    "\n",
    "\n"
   ]
  },
  {
   "cell_type": "code",
   "execution_count": 5,
   "metadata": {},
   "outputs": [
    {
     "name": "stderr",
     "output_type": "stream",
     "text": [
      "WARNING: In /Users/runner/work/1/sitk-build/ITK-prefix/include/ITK-5.2/itkImageSeriesReader.hxx, line 480\n",
      "ImageSeriesReader (0x7f92ba9da0d0): Non uniform sampling or missing slices detected,  maximum nonuniformity:2.44186\n",
      "\n",
      "WARNING: In /Users/runner/work/1/sitk-build/ITK-prefix/include/ITK-5.2/itkImageSeriesReader.hxx, line 480\n",
      "ImageSeriesReader (0x7f92b85e9960): Non uniform sampling or missing slices detected,  maximum nonuniformity:2.98469\n",
      "\n"
     ]
    },
    {
     "name": "stdout",
     "output_type": "stream",
     "text": [
      "Number of slices in LUNG1-021 = 197\n",
      "Number of slices in LUNG1-038 = 176\n",
      "Number of slices in LUNG1-058 = 297\n",
      "Number of slices in LUNG1-067 = 176\n",
      "Number of slices in LUNG1-073 = 176\n",
      "Number of slices in LUNG1-075 = 176\n",
      "Number of slices in LUNG1-082 = 176\n"
     ]
    },
    {
     "name": "stderr",
     "output_type": "stream",
     "text": [
      "WARNING: In /Users/runner/work/1/sitk-build/ITK-prefix/include/ITK-5.2/itkImageSeriesReader.hxx, line 480\n",
      "ImageSeriesReader (0x7f92b85e9960): Non uniform sampling or missing slices detected,  maximum nonuniformity:2.71429\n",
      "\n"
     ]
    },
    {
     "name": "stdout",
     "output_type": "stream",
     "text": [
      "Number of slices in LUNG1-086 = 176\n",
      "Number of slices in LUNG1-093 = 176\n"
     ]
    },
    {
     "name": "stderr",
     "output_type": "stream",
     "text": [
      "WARNING: In /Users/runner/work/1/sitk-build/ITK-prefix/include/ITK-5.2/itkImageSeriesReader.hxx, line 480\n",
      "ImageSeriesReader (0x7f92ba9da0d0): Non uniform sampling or missing slices detected,  maximum nonuniformity:1.9717\n",
      "\n"
     ]
    },
    {
     "name": "stdout",
     "output_type": "stream",
     "text": [
      "Number of slices in LUNG1-096 = 176\n",
      "Number of slices in LUNG1-104 = 297\n",
      "Number of slices in LUNG1-108 = 176\n",
      "Number of slices in LUNG1-110 = 176\n",
      "Number of slices in LUNG1-111 = 216\n",
      "Number of slices in LUNG1-112 = 176\n",
      "Number of slices in LUNG1-133 = 184\n"
     ]
    },
    {
     "name": "stderr",
     "output_type": "stream",
     "text": [
      "WARNING: In /Users/runner/work/1/sitk-build/ITK-prefix/include/ITK-5.2/itkImageSeriesReader.hxx, line 480\n",
      "ImageSeriesReader (0x7f92b85e9960): Non uniform sampling or missing slices detected,  maximum nonuniformity:2.97619\n",
      "\n"
     ]
    },
    {
     "name": "stdout",
     "output_type": "stream",
     "text": [
      "Number of slices in LUNG1-371 = 173\n",
      "[197, 176, 297, 176, 176, 176, 176, 176, 176, 176, 297, 176, 176, 216, 176, 184, 173]\n",
      "[21, 38, 58, 67, 73, 75, 82, 86, 93, 96, 104, 108, 110, 111, 112, 133, 371]\n"
     ]
    }
   ],
   "source": [
    "counter = 0\n",
    "sizes = []\n",
    "biggest_size = 0\n",
    "biggest_size_label = 0\n",
    "too_big_sizes = []\n",
    "too_big_indexes = []\n",
    "for x in range(1, number_of_iterations) :\n",
    "    _3_digit_x = '{0:03}'.format(x) #formats the 'x' to the form 'yzx' e.g. 1 -> 001\n",
    "                                    # so that it fits the format of the naming scheme used\n",
    "                                    # e.g. LUNG1-001-CTUnknownStudyID\n",
    "    directory_full = directory + str(_3_digit_x) + '-CT' #   This line will change depending on the naming scheme that you have used\n",
    "    dicom_names = reader.GetGDCMSeriesFileNames(directory_full)\n",
    "    reader.SetFileNames(dicom_names)\n",
    "    image = reader.Execute()\n",
    "    size = image.GetSize()\n",
    "    sizes.append(size[2])\n",
    "    #counter += 1\n",
    "    \n",
    "    if size[2] > 170 :\n",
    "        too_big_sizes.append(size[2])\n",
    "        too_big_indexes.append(x)\n",
    "        print(f\"Number of slices in LUNG1-{_3_digit_x} = {size[2]}\")\n",
    "    #if counter%20 == 0 :\n",
    "        #print(counter) # Checking that the code is running and its progress\n",
    "\n",
    "biggest_size = np.max(sizes)\n",
    "biggest_size_label = np.argmax(sizes) + 1\n",
    "print(too_big_sizes)\n",
    "print(too_big_indexes)"
   ]
  },
  {
   "cell_type": "code",
   "execution_count": 8,
   "metadata": {},
   "outputs": [
    {
     "name": "stdout",
     "output_type": "stream",
     "text": [
      "The largest depth in the NSCLC-Radiomics data set is 297 from LUNG1-058\n"
     ]
    },
    {
     "data": {
      "image/png": "[encoded data removed]",
      "text/plain": [
       "<Figure size 432x288 with 1 Axes>"
      ]
     },
     "metadata": {
      "needs_background": "light"
     },
     "output_type": "display_data"
    }
   ],
   "source": [
    "print(\"The largest depth in the NSCLC-Radiomics data set is \" + str(biggest_size) + \" from LUNG1-\" + str('{0:03}'.format(biggest_size_label)))\n",
    "\n",
    "plt.hist(sizes, bins = 50)\n",
    "plt.xlabel(\"Number of slices\")\n",
    "plt.ylabel(\"Number of occurrences\")\n",
    "plt.show()"
   ]
  },
  {
   "cell_type": "code",
   "execution_count": 16,
   "metadata": {},
   "outputs": [
    {
     "name": "stdout",
     "output_type": "stream",
     "text": [
      "[370 371 372 373 374 375 376 377 378 379 380 381 382 383 384 385 386 387\n",
      " 388 389 390 391 392 393 394 395 396 397 398 399 400 401 402 403 404 405\n",
      " 406 407 408 409 410 411 412 413 414 415 416 417 418 419 420 421 422]\n",
      "[  1   2   3   4   5   6   7   8   9  10  11  12  13  14  15  16  17  18\n",
      "  19  20  21  22  23  24  25  26  27  28  29  30  31  32  33  34  35  36\n",
      "  37  38  39  40  41  42  43  44  45  46  47  48  49  50  51  52  53  54\n",
      "  55  56  57  58  59  60  61  62  63  64  65  66  67  68  69  70  71  72\n",
      "  73  74  75  76  77  78  79  80  81  82  83  84  85  86  87  88  89  90\n",
      "  91  92  93  94  95  96  97  98  99 100 101 102 103 104 105 106 107 108\n",
      " 109 110 111 112 113 114 115 116 117 118 119 120 121 122 123 124 125 126\n",
      " 127 128 129 130 131 132 133 134 135 136 137 138 139 140 141 142 143 144\n",
      " 145 146 147 148 149 150 151 152 153 154 155 156 157 158 159 160 161 162\n",
      " 163 164 165 166 167 168 169 170 171 172 173 174 175 176 177 178 179 180\n",
      " 181 182 183 184 185 186 187 188 189 190 191 192 193 194 195 196 197 198\n",
      " 199 200 201 202 203 204 205 206 207 208 209 210 211 212 213 214 215 216\n",
      " 217 218 219 220 221 222 223 224 225 226 227 228 229 230 231 232 233 234\n",
      " 235 236 237 238 239 240 241 242 243 244 245 246 247 248 249 250 251 252\n",
      " 253 254 255 256 257 258 259 260 261 262 263 264 265 266 267 268 269 270\n",
      " 271 272 273 274 275 276 277 278 279 280 281 282 283 284 285 286 287 288\n",
      " 289 290 291 292 293 294 295 296 297 298 299 300 301 302 303 304 305 306\n",
      " 307 308 309 310 311 312 313 314 315 316 317 318 319 320 321 322 323 324\n",
      " 325 326 327 328 329 330 331 332 333 334 335 336 337 338 339 340 341 342\n",
      " 343 344 345 346 347 348 349 350 351 352 353 354 355 356 357 358 359 360\n",
      " 361 362 363 364 365 366 367 368 369 370 371 372 373 374 375 376 377 378\n",
      " 379 380 381 382 383 384 385 386 387 388 389 390 391 392 393 394 395 396\n",
      " 397 398 399 400 401 402 403 404 405 406 407 408 409 410 411 412 413 414\n",
      " 415 416 417 418 419 420 421 422]\n"
     ]
    }
   ],
   "source": []
  }
 ],
 "metadata": {
  "interpreter": {
   "hash": "1af5c7ba4dee4ee8110c722f91ce888b02ee92b167dae2041da9217f1597362a"
  },
  "kernelspec": {
   "display_name": "Python 3.8.12 64-bit ('python38': conda)",
   "language": "python",
   "name": "python3"
  },
  "language_info": {
   "codemirror_mode": {
    "name": "ipython",
    "version": 3
   },
   "file_extension": ".py",
   "mimetype": "text/x-python",
   "name": "python",
   "nbconvert_exporter": "python",
   "pygments_lexer": "ipython3",
   "version": "3.8.12"
  },
  "orig_nbformat": 4
 },
 "nbformat": 4,
 "nbformat_minor": 2
}

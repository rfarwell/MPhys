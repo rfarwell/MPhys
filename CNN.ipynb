{
  "nbformat": 4,
  "nbformat_minor": 0,
  "metadata": {
    "colab": {
      "name": "CNN.ipynb",
      "provenance": [],
      "collapsed_sections": [],
      "authorship_tag": "ABX9TyP48Xp9H8X8jPHmzNSQHReq",
      "include_colab_link": true
    },
    "kernelspec": {
      "name": "python3",
      "display_name": "Python 3"
    },
    "language_info": {
      "name": "python"
    },
    "accelerator": "GPU"
  },
  "cells": [
    {
      "cell_type": "markdown",
      "metadata": {
        "id": "view-in-github",
        "colab_type": "text"
      },
      "source": [
        "<a href=\"https://colab.research.google.com/github/rfarwell/MPhys/blob/main/CNN.ipynb\" target=\"_parent\"><img src=\"https://colab.research.google.com/assets/colab-badge.svg\" alt=\"Open In Colab\"/></a>"
      ]
    },
    {
      "cell_type": "markdown",
      "metadata": {
        "id": "IsHLnhTgJNYy"
      },
      "source": [
        "# Installing and Importing Libraries\n"
      ]
    },
    {
      "cell_type": "markdown",
      "metadata": {
        "id": "Qb5d8VOwoqjU"
      },
      "source": [
        "This block makes the necessary installations and imports for the rest of the code blocks to run, connects to the GPU if one is available, and specifies the location of the folder containing the data. That data folder should contain a sub-folder containing all nifti files, along with a clinical data csv file."
      ]
    },
    {
      "cell_type": "code",
      "metadata": {
        "colab": {
          "base_uri": "https://localhost:8080/"
        },
        "id": "ELNPiWRII_zV",
        "outputId": "af069e2c-5c5c-4e88-85ca-49d47f23e365"
      },
      "source": [
        "!pip install torch torchvision\n",
        "!pip install opencv-contrib-python\n",
        "!pip install scikit-learn\n",
        "!pip install SimpleITK\n",
        "\n",
        "import numpy as np\n",
        "import random\n",
        "import os\n",
        "import matplotlib.pyplot as plt\n",
        "import SimpleITK as sitk\n",
        "import torch\n",
        "\n",
        "from mpl_toolkits.mplot3d import Axes3D\n",
        "from torch.nn import Module\n",
        "from torch.nn import Conv3d\n",
        "from torch.nn import Linear\n",
        "from torch.nn import MaxPool2d\n",
        "from torch.nn import ReLU\n",
        "from torch.nn import LogSoftmax\n",
        "from torch import flatten\n",
        "from torch import nn\n",
        "from torch import reshape\n",
        "from torch.utils.data import Dataset\n",
        "from torch.utils.data import DataLoader\n",
        "from torchvision import transforms\n",
        "from torchvision import datasets\n",
        "from torch.optim import Adam\n",
        "import torchvision.models as models\n",
        "from torch.autograd import Variable"
      ],
      "execution_count": 1,
      "outputs": [
        {
          "output_type": "stream",
          "name": "stdout",
          "text": [
            "Requirement already satisfied: torch in /usr/local/lib/python3.7/dist-packages (1.10.0+cu111)\n",
            "Requirement already satisfied: torchvision in /usr/local/lib/python3.7/dist-packages (0.11.1+cu111)\n",
            "Requirement already satisfied: typing-extensions in /usr/local/lib/python3.7/dist-packages (from torch) (3.10.0.2)\n",
            "Requirement already satisfied: pillow!=8.3.0,>=5.3.0 in /usr/local/lib/python3.7/dist-packages (from torchvision) (7.1.2)\n",
            "Requirement already satisfied: numpy in /usr/local/lib/python3.7/dist-packages (from torchvision) (1.19.5)\n",
            "Requirement already satisfied: opencv-contrib-python in /usr/local/lib/python3.7/dist-packages (4.1.2.30)\n",
            "Requirement already satisfied: numpy>=1.14.5 in /usr/local/lib/python3.7/dist-packages (from opencv-contrib-python) (1.19.5)\n",
            "Requirement already satisfied: scikit-learn in /usr/local/lib/python3.7/dist-packages (1.0.1)\n",
            "Requirement already satisfied: scipy>=1.1.0 in /usr/local/lib/python3.7/dist-packages (from scikit-learn) (1.4.1)\n",
            "Requirement already satisfied: joblib>=0.11 in /usr/local/lib/python3.7/dist-packages (from scikit-learn) (1.1.0)\n",
            "Requirement already satisfied: numpy>=1.14.6 in /usr/local/lib/python3.7/dist-packages (from scikit-learn) (1.19.5)\n",
            "Requirement already satisfied: threadpoolctl>=2.0.0 in /usr/local/lib/python3.7/dist-packages (from scikit-learn) (3.0.0)\n",
            "Requirement already satisfied: SimpleITK in /usr/local/lib/python3.7/dist-packages (2.1.1)\n"
          ]
        }
      ]
    },
    {
      "cell_type": "code",
      "metadata": {
        "colab": {
          "base_uri": "https://localhost:8080/"
        },
        "id": "fcW1KwC7Nz0a",
        "outputId": "d087c93a-b719-44d8-ba2e-374988486dfd"
      },
      "source": [
        "from google.colab import drive\n",
        "drive.mount('/content/gdrive')"
      ],
      "execution_count": 2,
      "outputs": [
        {
          "output_type": "stream",
          "name": "stdout",
          "text": [
            "Drive already mounted at /content/gdrive; to attempt to forcibly remount, call drive.mount(\"/content/gdrive\", force_remount=True).\n"
          ]
        }
      ]
    },
    {
      "cell_type": "code",
      "metadata": {
        "colab": {
          "base_uri": "https://localhost:8080/"
        },
        "id": "XAkwlBuzNVmA",
        "outputId": "c9d1ac79-a9ea-4e69-fd5b-1524ffb82979"
      },
      "source": [
        "# Connect to GPU is available\n",
        "device = 'cuda' if torch.cuda.is_available() else 'cpu'\n",
        "print(f'Using {device} device')\n",
        "# /content/gdrive/MyDrive/MPhys/Data/COLAB-Clinical-Data.csv\n",
        "# Specify project folder location\n",
        "project_folder = \"/content/gdrive/MyDrive/MPhys/Data\"\n",
        "clinical_data_filename = \"COLAB-Clinical-Data.csv\"\n",
        "print(os.path.join(project_folder, clinical_data_filename))"
      ],
      "execution_count": 3,
      "outputs": [
        {
          "output_type": "stream",
          "name": "stdout",
          "text": [
            "Using cuda device\n",
            "/content/gdrive/MyDrive/MPhys/Data/COLAB-Clinical-Data.csv\n"
          ]
        }
      ]
    },
    {
      "cell_type": "markdown",
      "metadata": {
        "id": "B_NurIPW2mbq"
      },
      "source": [
        "# Defining Functions"
      ]
    },
    {
      "cell_type": "code",
      "metadata": {
        "id": "JBl0t2od2s7h"
      },
      "source": [
        "def equalise_array_lengths(array_1, array_2) :\n",
        "  \"\"\"\n",
        "  This functions takes in the arguments of two lists and makes sure they are returned as the same length.\n",
        "\n",
        "  Rory Farwell 02/12/2021\n",
        "  \"\"\"\n",
        "  # output_array = []\n",
        "  if len(array_1) > len(array_2) :\n",
        "    array_1 = array_1[:len(array_2)]\n",
        "  elif len(array_1) < len(array_2) :\n",
        "    array_2 = array_2[:len(array_1)]\n",
        "  #print(np.vstack((array_1, array_2)))\n",
        "  # output_array.append(array_1)\n",
        "  # output_array.append(array_2)\n",
        "  return (array_1, array_2)\n",
        "\n",
        "def remove_same_elements(small_array, long_array) :\n",
        "  \"\"\"\n",
        "  For use in the context, all the elements in small_array come from long_array.\n",
        "  This function will remove all of the elements used in small_array from_long_array.  \n",
        "  \"\"\"\n",
        "  for element in small_array :\n",
        "    long_array.remove(element)\n",
        "  return long_array\n",
        "\n",
        "def create_subgroup(input_array, original_array_length, desired_percentage) :\n",
        "  \"\"\"\n",
        "  This function outputs a subgroup array (e.g. training array) using a specified output array name,\n",
        "  input array and percentage length\n",
        "  \"\"\"\n",
        "  desired_length = int(original_array_length * desired_percentage)\n",
        "  output_array = random.sample(input_array, desired_length)\n",
        "  return output_array\n",
        "  "
      ],
      "execution_count": 4,
      "outputs": []
    },
    {
      "cell_type": "markdown",
      "metadata": {
        "id": "VOSE_bPnOjbr"
      },
      "source": [
        "# Define arrays of patient and outcome data"
      ]
    },
    {
      "cell_type": "markdown",
      "metadata": {
        "id": "xejNm8zdOqJ6"
      },
      "source": [
        "This block allows you to specify the criteria which defines the patient outcome as True or False. It then loops through all the patients in the metadata.csv file, searches for their corresponding image in the image folder, and then adds patient and outcome to either the training, testing, or validation array"
      ]
    },
    {
      "cell_type": "code",
      "metadata": {
        "id": "V8fbiDpGOnA2",
        "colab": {
          "base_uri": "https://localhost:8080/"
        },
        "outputId": "b5592317-a22e-4fc6-e642-03505cfa690f"
      },
      "source": [
        "# Open the metadata.csv file, convert to an array, and remove column headers\n",
        "metadata_file = os.path.join(project_folder, clinical_data_filename)\n",
        "metadata = np.genfromtxt(metadata_file, comments = '%', dtype=\"str\", delimiter=\",\")\n",
        "print(f\"Length of metadata array is {len(metadata)}\")"
      ],
      "execution_count": 5,
      "outputs": [
        {
          "output_type": "stream",
          "name": "stdout",
          "text": [
            "Length of metadata array is 100\n"
          ]
        }
      ]
    },
    {
      "cell_type": "code",
      "metadata": {
        "id": "CkkiN27jq5rD"
      },
      "source": [
        "outcome_type = 1 #int(input(\"Select which outcome you are aiming to predict \\n(1=Locoregional, 2=Distant Metastasis, 3=Death):\"))\n",
        "check_day = 3000 #int(input(\"Select the number of days at which to check for event:\"))\n",
        "which_patients = 1 #int(input(\"Do you want to include patients whose last follow up is before the check day? (no = 0, yes = 1):\"))\n",
        "patient_with_event = []\n",
        "patient_no_event = []\n",
        "outcomes_train = []\n",
        "outcomes_test = []\n",
        "images = []"
      ],
      "execution_count": 6,
      "outputs": []
    },
    {
      "cell_type": "code",
      "metadata": {
        "id": "whRzfVUlsrGz"
      },
      "source": [
        "check_day = 365 * 1.5 # This is defining the timeframe for which our CNN will consider the binary output (in days)\n",
        "\n",
        "patient_IDs = metadata[:,0]\n",
        "time_markers = metadata[:,8]\n",
        "dead_statuses = metadata[:,9]\n",
        "\n",
        "time_markers = time_markers.astype(np.float32)\n",
        "dead_statuses = dead_statuses.astype(np.float32)\n",
        "\n"
      ],
      "execution_count": 7,
      "outputs": []
    },
    {
      "cell_type": "code",
      "metadata": {
        "colab": {
          "base_uri": "https://localhost:8080/"
        },
        "id": "J4Hqx3IUwjSZ",
        "outputId": "a083aedf-6b9d-43af-e3c4-effede0a8356"
      },
      "source": [
        "check_day_dead_statuses = []\n",
        "\n",
        "counter = 0 \n",
        "\n",
        "dead_counter = 0\n",
        "alive_counter = 0\n",
        "no_info_counter = 0\n",
        "\n",
        "dead_patient_array = []\n",
        "alive_patient_array = []\n",
        "\n",
        "for i in range(len(dead_statuses)) :\n",
        "  # counter+=1\n",
        "  # print(counter)\n",
        "  temp_dead_status = dead_statuses[i]\n",
        "  #print(temp_dead_status)\n",
        "  temp_time_marker = time_markers[i]\n",
        "  #print(temp_time_marker)\n",
        "  if temp_dead_status == 1 : #if the patient is dead\n",
        "    #print('y')\n",
        "    if temp_time_marker < check_day :\n",
        "      check_day_dead_statuses.append(1) #confirms that the patient was dead after time 'check_day'\n",
        "      dead_patient_array.append([patient_IDs[i], 1])\n",
        "      dead_counter += 1\n",
        "      continue\n",
        "    elif temp_time_marker > check_day :\n",
        "      check_day_dead_statuses.append(0)\n",
        "      alive_patient_array.append([patient_IDs[i], 0])\n",
        "      alive_counter += 1\n",
        "      continue\n",
        "  elif temp_dead_status == 0 : #if the patient is alive\n",
        "    #print('n')\n",
        "    if temp_time_marker < check_day :\n",
        "      no_info_counter += 1\n",
        "      continue\n",
        "    elif temp_time_marker > check_day :\n",
        "      check_day_dead_statuses.append(0)\n",
        "      alive_patient_array.append([patient_IDs[i], 0])\n",
        "      alive_counter += 1\n",
        "      continue\n",
        "print(f\"Dead counter after {check_day} days: {dead_counter}\")\n",
        "print(f\"Alive counter after {check_day} days: {alive_counter}\")\n",
        "print(f\"No-info counter after {check_day} days: {no_info_counter}\")\n",
        "\n",
        "# print(len(dead_patient_array), dead_patient_array)\n",
        "# print(len(alive_patient_array), alive_patient_array)\n",
        "\n",
        "training_array = []\n",
        "testing_array = []\n",
        "validation_array = []\n",
        "\n",
        "random.shuffle(dead_patient_array) #shuffling both arrays to ensure random selection of patient data\n",
        "random.shuffle(alive_patient_array)\n",
        "\n",
        "# equalising the length of the 'dead' and 'alive' arrays so that we can ensure optimum training proportions\n",
        "new_dead_patient_array = equalise_array_lengths(dead_patient_array, alive_patient_array)[0]\n",
        "new_alive_patient_array = equalise_array_lengths(dead_patient_array, alive_patient_array)[1]\n",
        "print(f\"The alive and dead arrays have been sorted (randomly) so that they are both of length {len(new_dead_patient_array)}\")\n",
        "\n",
        "# print(new_dead_patient_array)\n",
        "# print(new_alive_patient_array)\n",
        "# print(len(new_dead_patient_array))\n",
        "# print(len(new_alive_patient_array))\n",
        "\n",
        "equalised_array_length = len(new_alive_patient_array)\n",
        "\n",
        "train_patients_dead = create_subgroup(new_dead_patient_array, equalised_array_length, 0.7)\n",
        "train_patients_alive = create_subgroup(new_alive_patient_array, equalised_array_length, 0.7)\n",
        "# print(len(train_patients_dead))\n",
        "# print(len(train_patients_alive))\n",
        "\n",
        "new_dead_patient_array = remove_same_elements(train_patients_dead, new_dead_patient_array)\n",
        "new_alive_patient_array = remove_same_elements(train_patients_alive, new_alive_patient_array)\n",
        "# print(len(new_dead_patient_array))\n",
        "# print(len(new_alive_patient_array))\n",
        "\n",
        "test_patients_dead = create_subgroup(new_dead_patient_array, equalised_array_length, 0.15)\n",
        "test_patients_alive = create_subgroup(new_alive_patient_array, equalised_array_length, 0.15)\n",
        "# print(len(test_patients_dead))\n",
        "# print(len(test_patients_alive))\n",
        "\n",
        "new_dead_patient_array = remove_same_elements(test_patients_dead, new_dead_patient_array)\n",
        "new_alive_patient_array = remove_same_elements(test_patients_alive, new_alive_patient_array)\n",
        "# print(len(new_dead_patient_array))\n",
        "# print(len(new_alive_patient_array))\n",
        "\n",
        "validate_patients_dead = create_subgroup(new_dead_patient_array, equalised_array_length, 0.15)\n",
        "validate_patients_alive = create_subgroup(new_alive_patient_array, equalised_array_length, 0.15)\n",
        "# print(len(validate_patients_dead))\n",
        "# print(len(validate_patients_alive))\n",
        "\n",
        "new_dead_patient_array = remove_same_elements(validate_patients_dead, new_dead_patient_array)\n",
        "new_alive_patient_array = remove_same_elements(validate_patients_alive, new_alive_patient_array)\n",
        "# print(len(new_dead_patient_array))\n",
        "# print(len(new_alive_patient_array))\n",
        "\n",
        "\n"
      ],
      "execution_count": 8,
      "outputs": [
        {
          "output_type": "stream",
          "name": "stdout",
          "text": [
            "Dead counter after 547.5 days: 60\n",
            "Alive counter after 547.5 days: 40\n",
            "No-info counter after 547.5 days: 0\n",
            "The alive and dead arrays have been sorted (randomly) so that they are both of length 40\n"
          ]
        }
      ]
    },
    {
      "cell_type": "code",
      "metadata": {
        "id": "86Vm67cT_yhs",
        "colab": {
          "base_uri": "https://localhost:8080/",
          "height": 191
        },
        "outputId": "4ed77825-aba6-4622-9515-96b037a24efb"
      },
      "source": [
        "outcomes_train = train_patients_dead + train_patients_alive\n",
        "outcomes_test = test_patients_dead + test_patients_alive\n",
        "outcomes_validate = validate_patients_dead + validate_patients_alive\n",
        "\n",
        "print(len(outcome_train))"
      ],
      "execution_count": 61,
      "outputs": [
        {
          "output_type": "error",
          "ename": "NameError",
          "evalue": "ignored",
          "traceback": [
            "\u001b[0;31m---------------------------------------------------------------------------\u001b[0m",
            "\u001b[0;31mNameError\u001b[0m                                 Traceback (most recent call last)",
            "\u001b[0;32m<ipython-input-61-62eb9fda972e>\u001b[0m in \u001b[0;36m<module>\u001b[0;34m()\u001b[0m\n\u001b[1;32m      3\u001b[0m \u001b[0moutcomes_validate\u001b[0m \u001b[0;34m=\u001b[0m \u001b[0mvalidate_patients_dead\u001b[0m \u001b[0;34m+\u001b[0m \u001b[0mvalidate_patients_alive\u001b[0m\u001b[0;34m\u001b[0m\u001b[0;34m\u001b[0m\u001b[0m\n\u001b[1;32m      4\u001b[0m \u001b[0;34m\u001b[0m\u001b[0m\n\u001b[0;32m----> 5\u001b[0;31m \u001b[0mprint\u001b[0m\u001b[0;34m(\u001b[0m\u001b[0mlen\u001b[0m\u001b[0;34m(\u001b[0m\u001b[0moutcome_train\u001b[0m\u001b[0;34m)\u001b[0m\u001b[0;34m)\u001b[0m\u001b[0;34m\u001b[0m\u001b[0;34m\u001b[0m\u001b[0m\n\u001b[0m",
            "\u001b[0;31mNameError\u001b[0m: name 'outcome_train' is not defined"
          ]
        }
      ]
    },
    {
      "cell_type": "markdown",
      "metadata": {
        "id": "GeGtnYOWAASW"
      },
      "source": [
        "# Define dataset class\n"
      ]
    },
    {
      "cell_type": "markdown",
      "metadata": {
        "id": "b5voer3VAD_U"
      },
      "source": [
        "This block defines the class on which to build dataset objects"
      ]
    },
    {
      "cell_type": "code",
      "metadata": {
        "id": "6SWSiruEAIXs"
      },
      "source": [
        "import os\n",
        "from torchvision.io import read_image"
      ],
      "execution_count": 10,
      "outputs": []
    },
    {
      "cell_type": "code",
      "metadata": {
        "id": "3hU8DQolAMej"
      },
      "source": [
        "class ImageDataset(Dataset) :\n",
        "  def __init__(self, annotations, img_dir, transform = transforms.ToTensor(), target_transform = None) :\n",
        "    self.img_labels = annotations\n",
        "    self.img_dir = img_dir\n",
        "    self.transform = transform\n",
        "    self.target_transform = target_transform\n",
        "\n",
        "  def __len__(self) :\n",
        "    return len(self.img_labels)\n",
        "\n",
        "  def __getitem__(self,idx) :\n",
        "    img_path = os.path.join(self.img_dir, self.img_labels[idx][0] + \"-GTV-1.nii\" )\n",
        "    image_sitk = sitk.ReadImage(img_path)\n",
        "    image = sitk.GetArrayFromImage(image_sitk)\n",
        "    label = self.img_labels[idx][1]\n",
        "    if self.transform :\n",
        "      image = self.transform(image)\n",
        "    if self.target_transform :\n",
        "      label = self.target_transform(label)\n",
        "    return image,label"
      ],
      "execution_count": 11,
      "outputs": []
    },
    {
      "cell_type": "markdown",
      "metadata": {
        "id": "sES3G5T6CvUA"
      },
      "source": [
        "# Build Datasets"
      ]
    },
    {
      "cell_type": "markdown",
      "metadata": {
        "id": "mUDdAl89CzRP"
      },
      "source": [
        "This block uses the class and arrays that were defined previously to build datasets for training, testing and validation."
      ]
    },
    {
      "cell_type": "code",
      "metadata": {
        "id": "1s8_Si19C7ou"
      },
      "source": [
        "training_data = ImageDataset(outcomes_train, os.path.join(project_folder, \"Textured_Masks\"))\n",
        "validation_data = ImageDataset(outcomes_validate, os.path.join(project_folder, \"Textured_Masks\"))\n",
        "test_data = ImageDataset(outcomes_test, os.path.join(project_folder, \"Textured_Masks\"))"
      ],
      "execution_count": 12,
      "outputs": []
    },
    {
      "cell_type": "markdown",
      "metadata": {
        "id": "XdYvu3z-Dqfu"
      },
      "source": [
        "# View mask in 3D"
      ]
    },
    {
      "cell_type": "markdown",
      "metadata": {
        "id": "GvkS7JtcDuH9"
      },
      "source": [
        "This block allows the user to view a binary mask from the image in 3D by extracting the image from a given dataset. This helps to confirm that the data has not been affected by reading in to pytorch."
      ]
    },
    {
      "cell_type": "code",
      "metadata": {
        "colab": {
          "base_uri": "https://localhost:8080/",
          "height": 297
        },
        "id": "jy1PqKD4D6_M",
        "outputId": "bea5df0a-1404-4cee-f7db-f98c44932839"
      },
      "source": [
        "# Set which dataset to look at, and the index of the patient to view\n",
        "dataset = training_data\n",
        "index = 14\n",
        "\n",
        "fig = plt.figure()\n",
        "ax = fig.add_subplot(111, projection='3d')\n",
        "\n",
        "array = dataset[index][0].numpy()\n",
        "x,y,z = np.where(array > -1024)\n",
        "ax.scatter(x, y, z, c=z, alpha=1)\n",
        "print(len(array))\n",
        "print(dataset[index][1])\n",
        "\n",
        "ax.set_xlim(0,len(array))\n",
        "ax.set_ylim(0,len(array))\n",
        "ax.set_zlim(0,len(array))"
      ],
      "execution_count": 13,
      "outputs": [
        {
          "output_type": "stream",
          "name": "stdout",
          "text": [
            "264\n",
            "1\n"
          ]
        },
        {
          "output_type": "execute_result",
          "data": {
            "text/plain": [
              "(0.0, 264.0)"
            ]
          },
          "metadata": {},
          "execution_count": 13
        },
        {
          "output_type": "display_data",
          "data": {
            "image/png": "[encoded data removed]",
            "text/plain": [
              "<Figure size 432x288 with 1 Axes>"
            ]
          },
          "metadata": {
            "needs_background": "light"
          }
        }
      ]
    },
    {
      "cell_type": "markdown",
      "metadata": {
        "id": "svY3d6bjGDmS"
      },
      "source": [
        "# Dataloader"
      ]
    },
    {
      "cell_type": "code",
      "metadata": {
        "id": "vCt-QcMCGFfB"
      },
      "source": [
        "train_dataloader = DataLoader(training_data, batch_size = 4, shuffle = True)\n",
        "test_dataloader = DataLoader(test_data, batch_size = 4, shuffle = True)\n",
        "validation_dataloader = DataLoader(validation_data, batch_size = 4, shuffle = True)\n"
      ],
      "execution_count": 14,
      "outputs": []
    },
    {
      "cell_type": "markdown",
      "metadata": {
        "id": "AY7Ra3x_IbGC"
      },
      "source": [
        "# Define CNN Class"
      ]
    },
    {
      "cell_type": "code",
      "metadata": {
        "id": "ozIhfNOsIdiz"
      },
      "source": [
        "import torch\n",
        "import torch.nn as nn\n",
        "import torch.nn\n",
        "\n",
        "class CNN(nn.Module):   \n",
        "    def __init__(self):\n",
        "        super(CNN, self).__init__()\n",
        "        out1 = 4\n",
        "        out2 = 4\n",
        "        out3 = 2\n",
        "        self.cnn_layers = nn.Sequential(\n",
        "            # Defining a 2D convolution layer\n",
        "            Conv3d(1, 4, 2, 2),\n",
        "            nn.BatchNorm3d(4),\n",
        "            ReLU(inplace=True),#applies a ReLu to the neurons\n",
        "            nn.MaxPool3d(kernel_size=2, stride=2),#finds max pool of feature map\n",
        "\n",
        "            Conv3d(4, 16, 2, 2),\n",
        "            nn.BatchNorm3d(16),\n",
        "            ReLU(inplace=True),\n",
        "            nn.MaxPool3d(kernel_size=2, stride=2),\n",
        "\n",
        "            Conv3d(16, 64, 2, 2),\n",
        "            nn.BatchNorm3d(64),\n",
        "            ReLU(inplace=True),\n",
        "            nn.MaxPool3d(kernel_size=2, stride=2),\n",
        "\n",
        "            Conv3d(64, 256, 2, 2),\n",
        "            nn.BatchNorm3d(256),\n",
        "            ReLU(inplace = True),\n",
        "            nn.MaxPool3d(kernel_size = 2, stride = 2),\n",
        "\n",
        "        )\n",
        "        \n",
        "        self.linear_layers = nn.Sequential(\n",
        "            Linear(256, 2)\n",
        "        )\n",
        "\n",
        "    # Defining the forward pass    \n",
        "    def forward(self, x):\n",
        "        x = self.cnn_layers(x)#calls the constructor to execute the convolutions, passes the tensor x and gets the \n",
        "        #result of the convolution passed back.\n",
        "        x = x.view(x.size(0), -1)\n",
        "        x = self.linear_layers(x)\n",
        "        return x"
      ],
      "execution_count": 101,
      "outputs": []
    },
    {
      "cell_type": "code",
      "source": [
        "model = CNN().to(device)"
      ],
      "metadata": {
        "id": "MDidluyTCe4o"
      },
      "execution_count": 102,
      "outputs": []
    },
    {
      "cell_type": "code",
      "source": [
        "dataiter = iter(train_dataloader)\n",
        "images, labels = dataiter.next()\n",
        "print(images.shape)"
      ],
      "metadata": {
        "colab": {
          "base_uri": "https://localhost:8080/"
        },
        "id": "zaI39Y0OE1TR",
        "outputId": "ca45220e-6877-4ffa-f493-0702c5bd369e"
      },
      "execution_count": 78,
      "outputs": [
        {
          "output_type": "stream",
          "name": "stdout",
          "text": [
            "torch.Size([4, 264, 264, 264])\n"
          ]
        }
      ]
    },
    {
      "cell_type": "code",
      "source": [
        "from torchsummary import summary\n",
        "summary(model, (1,264,264,264), batch_size = 4)"
      ],
      "metadata": {
        "colab": {
          "base_uri": "https://localhost:8080/"
        },
        "id": "oE1JbhjifHha",
        "outputId": "4ffc9e4c-55fb-4afd-8653-5c5e47826300"
      },
      "execution_count": 103,
      "outputs": [
        {
          "output_type": "stream",
          "name": "stdout",
          "text": [
            "----------------------------------------------------------------\n",
            "        Layer (type)               Output Shape         Param #\n",
            "================================================================\n",
            "            Conv3d-1      [4, 4, 132, 132, 132]              36\n",
            "       BatchNorm3d-2      [4, 4, 132, 132, 132]               8\n",
            "              ReLU-3      [4, 4, 132, 132, 132]               0\n",
            "         MaxPool3d-4         [4, 4, 66, 66, 66]               0\n",
            "            Conv3d-5        [4, 16, 33, 33, 33]             528\n",
            "       BatchNorm3d-6        [4, 16, 33, 33, 33]              32\n",
            "              ReLU-7        [4, 16, 33, 33, 33]               0\n",
            "         MaxPool3d-8        [4, 16, 16, 16, 16]               0\n",
            "            Conv3d-9           [4, 64, 8, 8, 8]           8,256\n",
            "      BatchNorm3d-10           [4, 64, 8, 8, 8]             128\n",
            "             ReLU-11           [4, 64, 8, 8, 8]               0\n",
            "        MaxPool3d-12           [4, 64, 4, 4, 4]               0\n",
            "           Conv3d-13          [4, 256, 2, 2, 2]         131,328\n",
            "      BatchNorm3d-14          [4, 256, 2, 2, 2]             512\n",
            "             ReLU-15          [4, 256, 2, 2, 2]               0\n",
            "        MaxPool3d-16          [4, 256, 1, 1, 1]               0\n",
            "           Linear-17                     [4, 2]             514\n",
            "================================================================\n",
            "Total params: 141,342\n",
            "Trainable params: 141,342\n",
            "Non-trainable params: 0\n",
            "----------------------------------------------------------------\n",
            "Input size (MB): 280.76\n",
            "Forward/backward pass size (MB): 935.33\n",
            "Params size (MB): 0.54\n",
            "Estimated Total Size (MB): 1216.63\n",
            "----------------------------------------------------------------\n"
          ]
        }
      ]
    },
    {
      "cell_type": "code",
      "source": [
        "conv1 = nn.Conv3d(1, 4, 3, 3)\n",
        "pool2 = nn.MaxPool3d(2,2)\n",
        "pool1 = nn.MaxPool3d(1,1)\n",
        "bn4 = nn.BatchNorm3d(4)\n",
        "bn16 = nn.BatchNorm3d(16)\n",
        "bn64 = nn.BatchNorm3d(64)\n",
        "bn256 = nn.BatchNorm3d(256)\n",
        "relu = ReLU(inplace = True)\n",
        "conv2 = nn.Conv3d(4, 16, 3, 3)\n",
        "conv3 = nn.Conv3d(16, 64, 3, 3)\n",
        "conv4 = nn.Conv3d(64, 256, 1, 1)\n",
        "fc1 = nn.Linear(256, 2)\n",
        "\n",
        "images = reshape(images, (images.shape[0], 1, images.shape[1], images.shape[2], images.shape[3]))\n",
        "print(images.shape)\n",
        "images=images.float()\n",
        "\n",
        "#Imitating layer 1\n",
        "images = conv1(images)\n",
        "print(images.shape)\n",
        "images = bn4(images)\n",
        "print(images.shape)\n",
        "images = relu(images)\n",
        "print(images.shape)\n",
        "images = pool2(images)\n",
        "print(images.shape)\n",
        "\n",
        "\n",
        "#Imitating layer 2\n",
        "images = conv2(images)\n",
        "print(images.shape)\n",
        "images = bn16(images)\n",
        "print(images.shape)\n",
        "images = relu(images)\n",
        "print(images.shape)\n",
        "images = pool2(images)\n",
        "print(images.shape)\n",
        "\n",
        "#Imitating layer 3\n",
        "images = conv3(images)\n",
        "print(images.shape)\n",
        "images = bn64(images)\n",
        "print(images.shape)\n",
        "images = relu(images)\n",
        "print(images.shape)\n",
        "images = pool2(images)\n",
        "print(images.shape)\n",
        "\n",
        "#Imitating layer 3\n",
        "images = conv4(images)\n",
        "print(images.shape)\n",
        "images = bn256(images)\n",
        "print(images.shape)\n",
        "images = relu(images)\n",
        "print(images.shape)\n",
        "images = pool1(images)\n",
        "print(images.shape)\n",
        "\n",
        "#Imitating linear layer\n",
        "images = fc1(images)\n",
        "print(images.shape)\n",
        "\n",
        "\n",
        "\n",
        "\n"
      ],
      "metadata": {
        "colab": {
          "base_uri": "https://localhost:8080/",
          "height": 644
        },
        "id": "3G6YDToqEll1",
        "outputId": "ef5c4b40-1b8b-45c1-bf6b-f7557b9910d5"
      },
      "execution_count": 79,
      "outputs": [
        {
          "output_type": "stream",
          "name": "stdout",
          "text": [
            "torch.Size([4, 1, 264, 264, 264])\n",
            "torch.Size([4, 4, 88, 88, 88])\n",
            "torch.Size([4, 4, 88, 88, 88])\n",
            "torch.Size([4, 4, 88, 88, 88])\n",
            "torch.Size([4, 4, 44, 44, 44])\n",
            "torch.Size([4, 16, 14, 14, 14])\n",
            "torch.Size([4, 16, 14, 14, 14])\n",
            "torch.Size([4, 16, 14, 14, 14])\n",
            "torch.Size([4, 16, 7, 7, 7])\n",
            "torch.Size([4, 64, 2, 2, 2])\n",
            "torch.Size([4, 64, 2, 2, 2])\n",
            "torch.Size([4, 64, 2, 2, 2])\n",
            "torch.Size([4, 64, 1, 1, 1])\n",
            "torch.Size([4, 256, 1, 1, 1])\n",
            "torch.Size([4, 256, 1, 1, 1])\n",
            "torch.Size([4, 256, 1, 1, 1])\n",
            "torch.Size([4, 256, 1, 1, 1])\n"
          ]
        },
        {
          "output_type": "error",
          "ename": "RuntimeError",
          "evalue": "ignored",
          "traceback": [
            "\u001b[0;31m---------------------------------------------------------------------------\u001b[0m",
            "\u001b[0;31mRuntimeError\u001b[0m                              Traceback (most recent call last)",
            "\u001b[0;32m<ipython-input-79-98970e13cccd>\u001b[0m in \u001b[0;36m<module>\u001b[0;34m()\u001b[0m\n\u001b[1;32m     58\u001b[0m \u001b[0;34m\u001b[0m\u001b[0m\n\u001b[1;32m     59\u001b[0m \u001b[0;31m#Imitating linear layer\u001b[0m\u001b[0;34m\u001b[0m\u001b[0;34m\u001b[0m\u001b[0;34m\u001b[0m\u001b[0m\n\u001b[0;32m---> 60\u001b[0;31m \u001b[0mimages\u001b[0m \u001b[0;34m=\u001b[0m \u001b[0mfc1\u001b[0m\u001b[0;34m(\u001b[0m\u001b[0mimages\u001b[0m\u001b[0;34m)\u001b[0m\u001b[0;34m\u001b[0m\u001b[0;34m\u001b[0m\u001b[0m\n\u001b[0m\u001b[1;32m     61\u001b[0m \u001b[0mprint\u001b[0m\u001b[0;34m(\u001b[0m\u001b[0mimages\u001b[0m\u001b[0;34m.\u001b[0m\u001b[0mshape\u001b[0m\u001b[0;34m)\u001b[0m\u001b[0;34m\u001b[0m\u001b[0;34m\u001b[0m\u001b[0m\n\u001b[1;32m     62\u001b[0m \u001b[0;34m\u001b[0m\u001b[0m\n",
            "\u001b[0;32m/usr/local/lib/python3.7/dist-packages/torch/nn/modules/module.py\u001b[0m in \u001b[0;36m_call_impl\u001b[0;34m(self, *input, **kwargs)\u001b[0m\n\u001b[1;32m   1100\u001b[0m         if not (self._backward_hooks or self._forward_hooks or self._forward_pre_hooks or _global_backward_hooks\n\u001b[1;32m   1101\u001b[0m                 or _global_forward_hooks or _global_forward_pre_hooks):\n\u001b[0;32m-> 1102\u001b[0;31m             \u001b[0;32mreturn\u001b[0m \u001b[0mforward_call\u001b[0m\u001b[0;34m(\u001b[0m\u001b[0;34m*\u001b[0m\u001b[0minput\u001b[0m\u001b[0;34m,\u001b[0m \u001b[0;34m**\u001b[0m\u001b[0mkwargs\u001b[0m\u001b[0;34m)\u001b[0m\u001b[0;34m\u001b[0m\u001b[0;34m\u001b[0m\u001b[0m\n\u001b[0m\u001b[1;32m   1103\u001b[0m         \u001b[0;31m# Do not call functions when jit is used\u001b[0m\u001b[0;34m\u001b[0m\u001b[0;34m\u001b[0m\u001b[0;34m\u001b[0m\u001b[0m\n\u001b[1;32m   1104\u001b[0m         \u001b[0mfull_backward_hooks\u001b[0m\u001b[0;34m,\u001b[0m \u001b[0mnon_full_backward_hooks\u001b[0m \u001b[0;34m=\u001b[0m \u001b[0;34m[\u001b[0m\u001b[0;34m]\u001b[0m\u001b[0;34m,\u001b[0m \u001b[0;34m[\u001b[0m\u001b[0;34m]\u001b[0m\u001b[0;34m\u001b[0m\u001b[0;34m\u001b[0m\u001b[0m\n",
            "\u001b[0;32m/usr/local/lib/python3.7/dist-packages/torch/nn/modules/linear.py\u001b[0m in \u001b[0;36mforward\u001b[0;34m(self, input)\u001b[0m\n\u001b[1;32m    101\u001b[0m \u001b[0;34m\u001b[0m\u001b[0m\n\u001b[1;32m    102\u001b[0m     \u001b[0;32mdef\u001b[0m \u001b[0mforward\u001b[0m\u001b[0;34m(\u001b[0m\u001b[0mself\u001b[0m\u001b[0;34m,\u001b[0m \u001b[0minput\u001b[0m\u001b[0;34m:\u001b[0m \u001b[0mTensor\u001b[0m\u001b[0;34m)\u001b[0m \u001b[0;34m->\u001b[0m \u001b[0mTensor\u001b[0m\u001b[0;34m:\u001b[0m\u001b[0;34m\u001b[0m\u001b[0;34m\u001b[0m\u001b[0m\n\u001b[0;32m--> 103\u001b[0;31m         \u001b[0;32mreturn\u001b[0m \u001b[0mF\u001b[0m\u001b[0;34m.\u001b[0m\u001b[0mlinear\u001b[0m\u001b[0;34m(\u001b[0m\u001b[0minput\u001b[0m\u001b[0;34m,\u001b[0m \u001b[0mself\u001b[0m\u001b[0;34m.\u001b[0m\u001b[0mweight\u001b[0m\u001b[0;34m,\u001b[0m \u001b[0mself\u001b[0m\u001b[0;34m.\u001b[0m\u001b[0mbias\u001b[0m\u001b[0;34m)\u001b[0m\u001b[0;34m\u001b[0m\u001b[0;34m\u001b[0m\u001b[0m\n\u001b[0m\u001b[1;32m    104\u001b[0m \u001b[0;34m\u001b[0m\u001b[0m\n\u001b[1;32m    105\u001b[0m     \u001b[0;32mdef\u001b[0m \u001b[0mextra_repr\u001b[0m\u001b[0;34m(\u001b[0m\u001b[0mself\u001b[0m\u001b[0;34m)\u001b[0m \u001b[0;34m->\u001b[0m \u001b[0mstr\u001b[0m\u001b[0;34m:\u001b[0m\u001b[0;34m\u001b[0m\u001b[0;34m\u001b[0m\u001b[0m\n",
            "\u001b[0;32m/usr/local/lib/python3.7/dist-packages/torch/nn/functional.py\u001b[0m in \u001b[0;36mlinear\u001b[0;34m(input, weight, bias)\u001b[0m\n\u001b[1;32m   1846\u001b[0m     \u001b[0;32mif\u001b[0m \u001b[0mhas_torch_function_variadic\u001b[0m\u001b[0;34m(\u001b[0m\u001b[0minput\u001b[0m\u001b[0;34m,\u001b[0m \u001b[0mweight\u001b[0m\u001b[0;34m,\u001b[0m \u001b[0mbias\u001b[0m\u001b[0;34m)\u001b[0m\u001b[0;34m:\u001b[0m\u001b[0;34m\u001b[0m\u001b[0;34m\u001b[0m\u001b[0m\n\u001b[1;32m   1847\u001b[0m         \u001b[0;32mreturn\u001b[0m \u001b[0mhandle_torch_function\u001b[0m\u001b[0;34m(\u001b[0m\u001b[0mlinear\u001b[0m\u001b[0;34m,\u001b[0m \u001b[0;34m(\u001b[0m\u001b[0minput\u001b[0m\u001b[0;34m,\u001b[0m \u001b[0mweight\u001b[0m\u001b[0;34m,\u001b[0m \u001b[0mbias\u001b[0m\u001b[0;34m)\u001b[0m\u001b[0;34m,\u001b[0m \u001b[0minput\u001b[0m\u001b[0;34m,\u001b[0m \u001b[0mweight\u001b[0m\u001b[0;34m,\u001b[0m \u001b[0mbias\u001b[0m\u001b[0;34m=\u001b[0m\u001b[0mbias\u001b[0m\u001b[0;34m)\u001b[0m\u001b[0;34m\u001b[0m\u001b[0;34m\u001b[0m\u001b[0m\n\u001b[0;32m-> 1848\u001b[0;31m     \u001b[0;32mreturn\u001b[0m \u001b[0mtorch\u001b[0m\u001b[0;34m.\u001b[0m\u001b[0m_C\u001b[0m\u001b[0;34m.\u001b[0m\u001b[0m_nn\u001b[0m\u001b[0;34m.\u001b[0m\u001b[0mlinear\u001b[0m\u001b[0;34m(\u001b[0m\u001b[0minput\u001b[0m\u001b[0;34m,\u001b[0m \u001b[0mweight\u001b[0m\u001b[0;34m,\u001b[0m \u001b[0mbias\u001b[0m\u001b[0;34m)\u001b[0m\u001b[0;34m\u001b[0m\u001b[0;34m\u001b[0m\u001b[0m\n\u001b[0m\u001b[1;32m   1849\u001b[0m \u001b[0;34m\u001b[0m\u001b[0m\n\u001b[1;32m   1850\u001b[0m \u001b[0;34m\u001b[0m\u001b[0m\n",
            "\u001b[0;31mRuntimeError\u001b[0m: mat1 and mat2 shapes cannot be multiplied (1024x1 and 256x2)"
          ]
        }
      ]
    },
    {
      "cell_type": "code",
      "source": [
        "from torchsummary import summary\n",
        "summary(model = model, input_size = (1,264,264,264), batch_size = 4)"
      ],
      "metadata": {
        "id": "5FWUo0YhWcp5",
        "colab": {
          "base_uri": "https://localhost:8080/"
        },
        "outputId": "d78bcf1c-662d-4673-c1dd-619310199cdd"
      },
      "execution_count": 66,
      "outputs": [
        {
          "output_type": "stream",
          "name": "stdout",
          "text": [
            "----------------------------------------------------------------\n",
            "        Layer (type)               Output Shape         Param #\n",
            "================================================================\n",
            "            Conv3d-1         [4, 4, 88, 88, 88]             112\n",
            "       BatchNorm3d-2         [4, 4, 88, 88, 88]               8\n",
            "              ReLU-3         [4, 4, 88, 88, 88]               0\n",
            "         MaxPool3d-4         [4, 4, 44, 44, 44]               0\n",
            "            Conv3d-5        [4, 16, 14, 14, 14]           1,744\n",
            "       BatchNorm3d-6        [4, 16, 14, 14, 14]              32\n",
            "              ReLU-7        [4, 16, 14, 14, 14]               0\n",
            "         MaxPool3d-8           [4, 16, 7, 7, 7]               0\n",
            "            Conv3d-9           [4, 64, 2, 2, 2]          27,712\n",
            "      BatchNorm3d-10           [4, 64, 2, 2, 2]             128\n",
            "             ReLU-11           [4, 64, 2, 2, 2]               0\n",
            "        MaxPool3d-12           [4, 64, 1, 1, 1]               0\n",
            "           Conv3d-13          [4, 256, 1, 1, 1]          16,640\n",
            "      BatchNorm3d-14          [4, 256, 1, 1, 1]             512\n",
            "             ReLU-15          [4, 256, 1, 1, 1]               0\n",
            "        MaxPool3d-16          [4, 256, 1, 1, 1]               0\n",
            "           Linear-17                     [4, 2]             514\n",
            "================================================================\n",
            "Total params: 47,402\n",
            "Trainable params: 47,402\n",
            "Non-trainable params: 0\n",
            "----------------------------------------------------------------\n",
            "Input size (MB): 280.76\n",
            "Forward/backward pass size (MB): 264.23\n",
            "Params size (MB): 0.18\n",
            "Estimated Total Size (MB): 545.17\n",
            "----------------------------------------------------------------\n"
          ]
        }
      ]
    },
    {
      "cell_type": "markdown",
      "metadata": {
        "id": "A7Twui3EIoNJ"
      },
      "source": [
        "# Define Train and Test Loops"
      ]
    },
    {
      "cell_type": "code",
      "metadata": {
        "colab": {
          "base_uri": "https://localhost:8080/"
        },
        "id": "VnRT9mD2IrbP",
        "outputId": "b011fae4-2479-4fab-d12c-bf806557ddf7"
      },
      "source": [
        "# James' training loop \n",
        "\n",
        "# def train_loop(dataloader, model, loss_fn, optimizer):\n",
        "#     size = len(dataloader.dataset)\n",
        "#     for batch, (X, y) in enumerate(dataloader):\n",
        "#         # Compute prediction and loss\n",
        "#         X = reshape(X, (X.shape[0],1,264,264,264))\n",
        "#         X = X.float()\n",
        "#         X = X.to(device)\n",
        "#         y = y.to(device)\n",
        "#         pred = model(X)\n",
        "#         loss = loss_fn(pred, y)\n",
        "\n",
        "#         # Backpropagation\n",
        "#         optimizer.zero_grad()\n",
        "#         loss.backward()\n",
        "#         optimizer.step()\n",
        "\n",
        "#         if batch % 1 == 0:\n",
        "#             loss, current = loss.item(), batch * len(X)\n",
        "#             print(f\"loss: {loss:>7f}  [{current:>5d}/{size:>5d}]\")\n",
        "\n",
        "# Switching the order of the forward pass and zero_grad()\n",
        "\n",
        "def train_loop(dataloader, model, loss_fn, optimizer):\n",
        "    size = len(dataloader.dataset)\n",
        "    train_loss = 0\n",
        "    for batch, (X, y) in enumerate(dataloader):\n",
        "        # Compute prediction and loss\n",
        "        X = reshape(X, (X.shape[0],1,264,264,264))\n",
        "        X = X.float()\n",
        "        X = X.to(device)\n",
        "        y = y.to(device)\n",
        "        \n",
        "        optimizer.zero_grad()\n",
        "\n",
        "        pred = model(X)\n",
        "        loss = loss_fn(pred, y)\n",
        "\n",
        "        # Backpropagation\n",
        "        \n",
        "        loss.backward()\n",
        "        optimizer.step()\n",
        "\n",
        "        train_loss += loss.item()\n",
        "\n",
        "        \n",
        "\n",
        "        if batch % 1 == 0:\n",
        "            loss, current = loss.item(), batch * len(X)\n",
        "            print(f\"loss: {loss:>7f}  [{current:>5d}/{size:>5d}]\")\n",
        "\n",
        "\n",
        "def test_loop(dataloader, model, loss_fn):\n",
        "    size = len(dataloader.dataset)\n",
        "    num_batches = len(dataloader)\n",
        "    test_loss, correct = 0, 0\n",
        "\n",
        "    with torch.no_grad():\n",
        "        for X, y in dataloader:\n",
        "            X = reshape(X, (X.shape[0],1,264,264,264))\n",
        "            X = X.float()\n",
        "            X = X.to(device)\n",
        "            y = y.to(device)\n",
        "            pred = model(X)\n",
        "            test_loss += loss_fn(pred, y).item()\n",
        "            correct += (pred.argmax(1) == y).type(torch.float).sum().item()\n",
        "\n",
        "    test_loss /= num_batches\n",
        "    correct /= size\n",
        "    print(f\"Test Error: \\n Accuracy: {(100*correct):>0.1f}%, Avg loss: {test_loss:>8f} \\n\")\n",
        "\n",
        "learning_rate = 0.05\n",
        "# defining the model\n",
        "model = CNN()\n",
        "# defining the optimizer\n",
        "optimizer = torch.optim.SGD(model.parameters(), lr=learning_rate)\n",
        "# defining the loss function\n",
        "#loss_fn = nn.BCEWithLogitsLoss()\n",
        "#loss_fn = nn.BCELoss()\n",
        "loss_fn = nn.CrossEntropyLoss()\n",
        "# checking if GPU is available\n",
        "model.to(device)\n",
        "loss_fn.to(device)"
      ],
      "execution_count": 104,
      "outputs": [
        {
          "output_type": "execute_result",
          "data": {
            "text/plain": [
              "CrossEntropyLoss()"
            ]
          },
          "metadata": {},
          "execution_count": 104
        }
      ]
    },
    {
      "cell_type": "code",
      "source": [
        "def train_loop(dataloader, model, loss_fn, optimizer) :\n",
        "  train_loss = 0\n",
        "  size = len(dataloader.dataset)\n",
        "  print(f\"size = {size}\")\n",
        "  for images, labels in tqdm(dataloader) :\n",
        "    # Compute prediction and loss\n",
        "    images = reshape(images, (images.shape[0],1, images,shape[1], images.shape[2], images.shape[3]))\n",
        "    images = images.float()\n",
        "    images = images.to(device)\n",
        "    labels = labels.to(device)\n",
        "    \n",
        "    #Clear the gradients\n",
        "    optimizer.zero_grad()\n",
        "\n",
        "    #Forward pass\n",
        "    pred = model(images)\n",
        "\n",
        "    #Find the loss\n",
        "    loss = loss_fn(pred, labels)\n",
        "\n",
        "    #Calculate gradients\n",
        "    loss.backward()\n",
        "    \n",
        "    #Update Weights\n",
        "    optimizer.step()\n",
        "\n",
        "    #Calculate the loss\n",
        "    train_loss += loss.item()\n",
        "\n",
        "    if batch % 1 == 0:\n",
        "        loss, current = loss.item(), batch * len(X)\n",
        "        print(f\"loss: {loss:>7f}  [{current:>5d}/{size:>5d}]\")\n"
      ],
      "metadata": {
        "id": "sW5U5-8hrDFG"
      },
      "execution_count": null,
      "outputs": []
    },
    {
      "cell_type": "code",
      "source": [
        "from tqdm import tqdm\n",
        "#testing something\n",
        "epochs = 5\n",
        "for e in range(epochs) :\n",
        "  train_loss = 0.0\n",
        "  for data, labels in tqdm(train_dataloader):\n",
        "      data = reshape(data, (data.size[0], 1, data.size[1], data.size[2], data.size[3]))\n",
        "      # Transfer Data to GPU if available\n",
        "      if torch.cuda.is_available():\n",
        "          data, labels = data.cuda(), labels.cuda()\n",
        "        \n",
        "      # Clear the gradients\n",
        "      optimizer.zero_grad()\n",
        "      # Forward Pass\n",
        "      target = model(data)\n",
        "      # Find the Loss\n",
        "      loss = criterion(target,labels)\n",
        "      # Calculate gradients \n",
        "      loss.backward()\n",
        "      # Update Weights\n",
        "      optimizer.step()\n",
        "      # Calculate Loss\n",
        "      train_loss += loss.item()\n",
        "    \n",
        "  print(f'Epoch {e+1} \\t\\t Training Loss: {train_loss / len(trainloader)}')\n"
      ],
      "metadata": {
        "colab": {
          "base_uri": "https://localhost:8080/",
          "height": 381
        },
        "id": "usyjiKiAtR7K",
        "outputId": "8350a449-0cd7-44e0-e9d8-73467509c2bb"
      },
      "execution_count": 65,
      "outputs": [
        {
          "output_type": "stream",
          "name": "stderr",
          "text": [
            "  0%|          | 0/14 [00:03<?, ?it/s]\n"
          ]
        },
        {
          "output_type": "error",
          "ename": "RuntimeError",
          "evalue": "ignored",
          "traceback": [
            "\u001b[0;31m---------------------------------------------------------------------------\u001b[0m",
            "\u001b[0;31mRuntimeError\u001b[0m                              Traceback (most recent call last)",
            "\u001b[0;32m<ipython-input-65-2dac82e0e9bb>\u001b[0m in \u001b[0;36m<module>\u001b[0;34m()\u001b[0m\n\u001b[1;32m     12\u001b[0m       \u001b[0moptimizer\u001b[0m\u001b[0;34m.\u001b[0m\u001b[0mzero_grad\u001b[0m\u001b[0;34m(\u001b[0m\u001b[0;34m)\u001b[0m\u001b[0;34m\u001b[0m\u001b[0;34m\u001b[0m\u001b[0m\n\u001b[1;32m     13\u001b[0m       \u001b[0;31m# Forward Pass\u001b[0m\u001b[0;34m\u001b[0m\u001b[0;34m\u001b[0m\u001b[0;34m\u001b[0m\u001b[0m\n\u001b[0;32m---> 14\u001b[0;31m       \u001b[0mtarget\u001b[0m \u001b[0;34m=\u001b[0m \u001b[0mmodel\u001b[0m\u001b[0;34m(\u001b[0m\u001b[0mdata\u001b[0m\u001b[0;34m)\u001b[0m\u001b[0;34m\u001b[0m\u001b[0;34m\u001b[0m\u001b[0m\n\u001b[0m\u001b[1;32m     15\u001b[0m       \u001b[0;31m# Find the Loss\u001b[0m\u001b[0;34m\u001b[0m\u001b[0;34m\u001b[0m\u001b[0;34m\u001b[0m\u001b[0m\n\u001b[1;32m     16\u001b[0m       \u001b[0mloss\u001b[0m \u001b[0;34m=\u001b[0m \u001b[0mcriterion\u001b[0m\u001b[0;34m(\u001b[0m\u001b[0mtarget\u001b[0m\u001b[0;34m,\u001b[0m\u001b[0mlabels\u001b[0m\u001b[0;34m)\u001b[0m\u001b[0;34m\u001b[0m\u001b[0;34m\u001b[0m\u001b[0m\n",
            "\u001b[0;32m/usr/local/lib/python3.7/dist-packages/torch/nn/modules/module.py\u001b[0m in \u001b[0;36m_call_impl\u001b[0;34m(self, *input, **kwargs)\u001b[0m\n\u001b[1;32m   1100\u001b[0m         if not (self._backward_hooks or self._forward_hooks or self._forward_pre_hooks or _global_backward_hooks\n\u001b[1;32m   1101\u001b[0m                 or _global_forward_hooks or _global_forward_pre_hooks):\n\u001b[0;32m-> 1102\u001b[0;31m             \u001b[0;32mreturn\u001b[0m \u001b[0mforward_call\u001b[0m\u001b[0;34m(\u001b[0m\u001b[0;34m*\u001b[0m\u001b[0minput\u001b[0m\u001b[0;34m,\u001b[0m \u001b[0;34m**\u001b[0m\u001b[0mkwargs\u001b[0m\u001b[0;34m)\u001b[0m\u001b[0;34m\u001b[0m\u001b[0;34m\u001b[0m\u001b[0m\n\u001b[0m\u001b[1;32m   1103\u001b[0m         \u001b[0;31m# Do not call functions when jit is used\u001b[0m\u001b[0;34m\u001b[0m\u001b[0;34m\u001b[0m\u001b[0;34m\u001b[0m\u001b[0m\n\u001b[1;32m   1104\u001b[0m         \u001b[0mfull_backward_hooks\u001b[0m\u001b[0;34m,\u001b[0m \u001b[0mnon_full_backward_hooks\u001b[0m \u001b[0;34m=\u001b[0m \u001b[0;34m[\u001b[0m\u001b[0;34m]\u001b[0m\u001b[0;34m,\u001b[0m \u001b[0;34m[\u001b[0m\u001b[0;34m]\u001b[0m\u001b[0;34m\u001b[0m\u001b[0;34m\u001b[0m\u001b[0m\n",
            "\u001b[0;32m<ipython-input-53-665338e2900e>\u001b[0m in \u001b[0;36mforward\u001b[0;34m(self, x)\u001b[0m\n\u001b[1;32m     39\u001b[0m     \u001b[0;31m# Defining the forward pass\u001b[0m\u001b[0;34m\u001b[0m\u001b[0;34m\u001b[0m\u001b[0;34m\u001b[0m\u001b[0m\n\u001b[1;32m     40\u001b[0m     \u001b[0;32mdef\u001b[0m \u001b[0mforward\u001b[0m\u001b[0;34m(\u001b[0m\u001b[0mself\u001b[0m\u001b[0;34m,\u001b[0m \u001b[0mx\u001b[0m\u001b[0;34m)\u001b[0m\u001b[0;34m:\u001b[0m\u001b[0;34m\u001b[0m\u001b[0;34m\u001b[0m\u001b[0m\n\u001b[0;32m---> 41\u001b[0;31m         \u001b[0mx\u001b[0m \u001b[0;34m=\u001b[0m \u001b[0mself\u001b[0m\u001b[0;34m.\u001b[0m\u001b[0mcnn_layers\u001b[0m\u001b[0;34m(\u001b[0m\u001b[0mx\u001b[0m\u001b[0;34m)\u001b[0m\u001b[0;31m#calls the constructor to execute the convolutions, passes the tensor x and gets the\u001b[0m\u001b[0;34m\u001b[0m\u001b[0;34m\u001b[0m\u001b[0m\n\u001b[0m\u001b[1;32m     42\u001b[0m         \u001b[0;31m#result of the convolution passed back.\u001b[0m\u001b[0;34m\u001b[0m\u001b[0;34m\u001b[0m\u001b[0;34m\u001b[0m\u001b[0m\n\u001b[1;32m     43\u001b[0m         \u001b[0mx\u001b[0m \u001b[0;34m=\u001b[0m \u001b[0mx\u001b[0m\u001b[0;34m.\u001b[0m\u001b[0mview\u001b[0m\u001b[0;34m(\u001b[0m\u001b[0mx\u001b[0m\u001b[0;34m.\u001b[0m\u001b[0msize\u001b[0m\u001b[0;34m(\u001b[0m\u001b[0;36m0\u001b[0m\u001b[0;34m)\u001b[0m\u001b[0;34m,\u001b[0m \u001b[0;34m-\u001b[0m\u001b[0;36m1\u001b[0m\u001b[0;34m)\u001b[0m\u001b[0;34m\u001b[0m\u001b[0;34m\u001b[0m\u001b[0m\n",
            "\u001b[0;32m/usr/local/lib/python3.7/dist-packages/torch/nn/modules/module.py\u001b[0m in \u001b[0;36m_call_impl\u001b[0;34m(self, *input, **kwargs)\u001b[0m\n\u001b[1;32m   1100\u001b[0m         if not (self._backward_hooks or self._forward_hooks or self._forward_pre_hooks or _global_backward_hooks\n\u001b[1;32m   1101\u001b[0m                 or _global_forward_hooks or _global_forward_pre_hooks):\n\u001b[0;32m-> 1102\u001b[0;31m             \u001b[0;32mreturn\u001b[0m \u001b[0mforward_call\u001b[0m\u001b[0;34m(\u001b[0m\u001b[0;34m*\u001b[0m\u001b[0minput\u001b[0m\u001b[0;34m,\u001b[0m \u001b[0;34m**\u001b[0m\u001b[0mkwargs\u001b[0m\u001b[0;34m)\u001b[0m\u001b[0;34m\u001b[0m\u001b[0;34m\u001b[0m\u001b[0m\n\u001b[0m\u001b[1;32m   1103\u001b[0m         \u001b[0;31m# Do not call functions when jit is used\u001b[0m\u001b[0;34m\u001b[0m\u001b[0;34m\u001b[0m\u001b[0;34m\u001b[0m\u001b[0m\n\u001b[1;32m   1104\u001b[0m         \u001b[0mfull_backward_hooks\u001b[0m\u001b[0;34m,\u001b[0m \u001b[0mnon_full_backward_hooks\u001b[0m \u001b[0;34m=\u001b[0m \u001b[0;34m[\u001b[0m\u001b[0;34m]\u001b[0m\u001b[0;34m,\u001b[0m \u001b[0;34m[\u001b[0m\u001b[0;34m]\u001b[0m\u001b[0;34m\u001b[0m\u001b[0;34m\u001b[0m\u001b[0m\n",
            "\u001b[0;32m/usr/local/lib/python3.7/dist-packages/torch/nn/modules/container.py\u001b[0m in \u001b[0;36mforward\u001b[0;34m(self, input)\u001b[0m\n\u001b[1;32m    139\u001b[0m     \u001b[0;32mdef\u001b[0m \u001b[0mforward\u001b[0m\u001b[0;34m(\u001b[0m\u001b[0mself\u001b[0m\u001b[0;34m,\u001b[0m \u001b[0minput\u001b[0m\u001b[0;34m)\u001b[0m\u001b[0;34m:\u001b[0m\u001b[0;34m\u001b[0m\u001b[0;34m\u001b[0m\u001b[0m\n\u001b[1;32m    140\u001b[0m         \u001b[0;32mfor\u001b[0m \u001b[0mmodule\u001b[0m \u001b[0;32min\u001b[0m \u001b[0mself\u001b[0m\u001b[0;34m:\u001b[0m\u001b[0;34m\u001b[0m\u001b[0;34m\u001b[0m\u001b[0m\n\u001b[0;32m--> 141\u001b[0;31m             \u001b[0minput\u001b[0m \u001b[0;34m=\u001b[0m \u001b[0mmodule\u001b[0m\u001b[0;34m(\u001b[0m\u001b[0minput\u001b[0m\u001b[0;34m)\u001b[0m\u001b[0;34m\u001b[0m\u001b[0;34m\u001b[0m\u001b[0m\n\u001b[0m\u001b[1;32m    142\u001b[0m         \u001b[0;32mreturn\u001b[0m \u001b[0minput\u001b[0m\u001b[0;34m\u001b[0m\u001b[0;34m\u001b[0m\u001b[0m\n\u001b[1;32m    143\u001b[0m \u001b[0;34m\u001b[0m\u001b[0m\n",
            "\u001b[0;32m/usr/local/lib/python3.7/dist-packages/torch/nn/modules/module.py\u001b[0m in \u001b[0;36m_call_impl\u001b[0;34m(self, *input, **kwargs)\u001b[0m\n\u001b[1;32m   1100\u001b[0m         if not (self._backward_hooks or self._forward_hooks or self._forward_pre_hooks or _global_backward_hooks\n\u001b[1;32m   1101\u001b[0m                 or _global_forward_hooks or _global_forward_pre_hooks):\n\u001b[0;32m-> 1102\u001b[0;31m             \u001b[0;32mreturn\u001b[0m \u001b[0mforward_call\u001b[0m\u001b[0;34m(\u001b[0m\u001b[0;34m*\u001b[0m\u001b[0minput\u001b[0m\u001b[0;34m,\u001b[0m \u001b[0;34m**\u001b[0m\u001b[0mkwargs\u001b[0m\u001b[0;34m)\u001b[0m\u001b[0;34m\u001b[0m\u001b[0;34m\u001b[0m\u001b[0m\n\u001b[0m\u001b[1;32m   1103\u001b[0m         \u001b[0;31m# Do not call functions when jit is used\u001b[0m\u001b[0;34m\u001b[0m\u001b[0;34m\u001b[0m\u001b[0;34m\u001b[0m\u001b[0m\n\u001b[1;32m   1104\u001b[0m         \u001b[0mfull_backward_hooks\u001b[0m\u001b[0;34m,\u001b[0m \u001b[0mnon_full_backward_hooks\u001b[0m \u001b[0;34m=\u001b[0m \u001b[0;34m[\u001b[0m\u001b[0;34m]\u001b[0m\u001b[0;34m,\u001b[0m \u001b[0;34m[\u001b[0m\u001b[0;34m]\u001b[0m\u001b[0;34m\u001b[0m\u001b[0;34m\u001b[0m\u001b[0m\n",
            "\u001b[0;32m/usr/local/lib/python3.7/dist-packages/torch/nn/modules/conv.py\u001b[0m in \u001b[0;36mforward\u001b[0;34m(self, input)\u001b[0m\n\u001b[1;32m    588\u001b[0m \u001b[0;34m\u001b[0m\u001b[0m\n\u001b[1;32m    589\u001b[0m     \u001b[0;32mdef\u001b[0m \u001b[0mforward\u001b[0m\u001b[0;34m(\u001b[0m\u001b[0mself\u001b[0m\u001b[0;34m,\u001b[0m \u001b[0minput\u001b[0m\u001b[0;34m:\u001b[0m \u001b[0mTensor\u001b[0m\u001b[0;34m)\u001b[0m \u001b[0;34m->\u001b[0m \u001b[0mTensor\u001b[0m\u001b[0;34m:\u001b[0m\u001b[0;34m\u001b[0m\u001b[0;34m\u001b[0m\u001b[0m\n\u001b[0;32m--> 590\u001b[0;31m         \u001b[0;32mreturn\u001b[0m \u001b[0mself\u001b[0m\u001b[0;34m.\u001b[0m\u001b[0m_conv_forward\u001b[0m\u001b[0;34m(\u001b[0m\u001b[0minput\u001b[0m\u001b[0;34m,\u001b[0m \u001b[0mself\u001b[0m\u001b[0;34m.\u001b[0m\u001b[0mweight\u001b[0m\u001b[0;34m,\u001b[0m \u001b[0mself\u001b[0m\u001b[0;34m.\u001b[0m\u001b[0mbias\u001b[0m\u001b[0;34m)\u001b[0m\u001b[0;34m\u001b[0m\u001b[0;34m\u001b[0m\u001b[0m\n\u001b[0m\u001b[1;32m    591\u001b[0m \u001b[0;34m\u001b[0m\u001b[0m\n\u001b[1;32m    592\u001b[0m \u001b[0;34m\u001b[0m\u001b[0m\n",
            "\u001b[0;32m/usr/local/lib/python3.7/dist-packages/torch/nn/modules/conv.py\u001b[0m in \u001b[0;36m_conv_forward\u001b[0;34m(self, input, weight, bias)\u001b[0m\n\u001b[1;32m    584\u001b[0m             )\n\u001b[1;32m    585\u001b[0m         return F.conv3d(\n\u001b[0;32m--> 586\u001b[0;31m             \u001b[0minput\u001b[0m\u001b[0;34m,\u001b[0m \u001b[0mweight\u001b[0m\u001b[0;34m,\u001b[0m \u001b[0mbias\u001b[0m\u001b[0;34m,\u001b[0m \u001b[0mself\u001b[0m\u001b[0;34m.\u001b[0m\u001b[0mstride\u001b[0m\u001b[0;34m,\u001b[0m \u001b[0mself\u001b[0m\u001b[0;34m.\u001b[0m\u001b[0mpadding\u001b[0m\u001b[0;34m,\u001b[0m \u001b[0mself\u001b[0m\u001b[0;34m.\u001b[0m\u001b[0mdilation\u001b[0m\u001b[0;34m,\u001b[0m \u001b[0mself\u001b[0m\u001b[0;34m.\u001b[0m\u001b[0mgroups\u001b[0m\u001b[0;34m\u001b[0m\u001b[0;34m\u001b[0m\u001b[0m\n\u001b[0m\u001b[1;32m    587\u001b[0m         )\n\u001b[1;32m    588\u001b[0m \u001b[0;34m\u001b[0m\u001b[0m\n",
            "\u001b[0;31mRuntimeError\u001b[0m: Expected 5-dimensional input for 5-dimensional weight [4, 1, 3, 3, 3], but got 4-dimensional input of size [4, 264, 264, 264] instead"
          ]
        }
      ]
    },
    {
      "cell_type": "markdown",
      "metadata": {
        "id": "7l9KOIydIxQP"
      },
      "source": [
        "# Run Network"
      ]
    },
    {
      "cell_type": "code",
      "source": [
        "from torchsummary import summary\n",
        "summary(model = model, input_size = (1,264,264,264), batch_size = 4)"
      ],
      "metadata": {
        "colab": {
          "base_uri": "https://localhost:8080/"
        },
        "id": "c6VEqpskAHDO",
        "outputId": "ec52687f-cd0d-4da9-b02e-bf0814061844"
      },
      "execution_count": 105,
      "outputs": [
        {
          "output_type": "stream",
          "name": "stdout",
          "text": [
            "----------------------------------------------------------------\n",
            "        Layer (type)               Output Shape         Param #\n",
            "================================================================\n",
            "            Conv3d-1      [4, 4, 132, 132, 132]              36\n",
            "       BatchNorm3d-2      [4, 4, 132, 132, 132]               8\n",
            "              ReLU-3      [4, 4, 132, 132, 132]               0\n",
            "         MaxPool3d-4         [4, 4, 66, 66, 66]               0\n",
            "            Conv3d-5        [4, 16, 33, 33, 33]             528\n",
            "       BatchNorm3d-6        [4, 16, 33, 33, 33]              32\n",
            "              ReLU-7        [4, 16, 33, 33, 33]               0\n",
            "         MaxPool3d-8        [4, 16, 16, 16, 16]               0\n",
            "            Conv3d-9           [4, 64, 8, 8, 8]           8,256\n",
            "      BatchNorm3d-10           [4, 64, 8, 8, 8]             128\n",
            "             ReLU-11           [4, 64, 8, 8, 8]               0\n",
            "        MaxPool3d-12           [4, 64, 4, 4, 4]               0\n",
            "           Conv3d-13          [4, 256, 2, 2, 2]         131,328\n",
            "      BatchNorm3d-14          [4, 256, 2, 2, 2]             512\n",
            "             ReLU-15          [4, 256, 2, 2, 2]               0\n",
            "        MaxPool3d-16          [4, 256, 1, 1, 1]               0\n",
            "           Linear-17                     [4, 2]             514\n",
            "================================================================\n",
            "Total params: 141,342\n",
            "Trainable params: 141,342\n",
            "Non-trainable params: 0\n",
            "----------------------------------------------------------------\n",
            "Input size (MB): 280.76\n",
            "Forward/backward pass size (MB): 935.33\n",
            "Params size (MB): 0.54\n",
            "Estimated Total Size (MB): 1216.63\n",
            "----------------------------------------------------------------\n"
          ]
        }
      ]
    },
    {
      "cell_type": "code",
      "metadata": {
        "colab": {
          "base_uri": "https://localhost:8080/"
        },
        "id": "3E8iv-VPIzIu",
        "outputId": "fa0c8e94-9ca0-45db-f46a-b975ef61d684"
      },
      "source": [
        "epochs = 10\n",
        "for t in range(epochs):\n",
        "    print(f\"Epoch {t+1}\\n-------------------------------\")\n",
        "    train_loop(train_dataloader, model, loss_fn, optimizer)\n",
        "    test_loop(test_dataloader, model, loss_fn)\n",
        "print(\"Done!\")"
      ],
      "execution_count": 106,
      "outputs": [
        {
          "output_type": "stream",
          "name": "stdout",
          "text": [
            "Epoch 1\n",
            "-------------------------------\n",
            "loss: 1.085885  [    0/   56]\n",
            "loss: 9.175634  [    4/   56]\n",
            "loss: 0.381605  [    8/   56]\n",
            "loss: 0.126932  [   12/   56]\n",
            "loss: 6.115846  [   16/   56]\n",
            "loss: 6.765229  [   20/   56]\n",
            "loss: 6.614133  [   24/   56]\n",
            "loss: 18.514914  [   28/   56]\n",
            "loss: 26.535320  [   32/   56]\n",
            "loss: 12.574775  [   36/   56]\n",
            "loss: 1.895428  [   40/   56]\n",
            "loss: 3.453264  [   44/   56]\n",
            "loss: 4.464771  [   48/   56]\n",
            "loss: 1.837939  [   52/   56]\n",
            "Test Error: \n",
            " Accuracy: 58.3%, Avg loss: 4.831409 \n",
            "\n",
            "Epoch 2\n",
            "-------------------------------\n",
            "loss: 0.357780  [    0/   56]\n",
            "loss: 3.435455  [    4/   56]\n",
            "loss: 3.109123  [    8/   56]\n",
            "loss: 0.572550  [   12/   56]\n",
            "loss: 0.688517  [   16/   56]\n",
            "loss: 11.738884  [   20/   56]\n",
            "loss: 1.937953  [   24/   56]\n",
            "loss: 4.268434  [   28/   56]\n",
            "loss: 5.435298  [   32/   56]\n",
            "loss: 1.680388  [   36/   56]\n",
            "loss: 1.447421  [   40/   56]\n",
            "loss: 1.589530  [   44/   56]\n",
            "loss: 2.030014  [   48/   56]\n",
            "loss: 2.114629  [   52/   56]\n",
            "Test Error: \n",
            " Accuracy: 50.0%, Avg loss: 4.749156 \n",
            "\n",
            "Epoch 3\n",
            "-------------------------------\n",
            "loss: 0.140759  [    0/   56]\n",
            "loss: 1.399093  [    4/   56]\n",
            "loss: 3.612340  [    8/   56]\n",
            "loss: 12.266301  [   12/   56]\n",
            "loss: 0.973329  [   16/   56]\n",
            "loss: 0.112665  [   20/   56]\n",
            "loss: 2.257104  [   24/   56]\n",
            "loss: 3.195941  [   28/   56]\n",
            "loss: 4.540387  [   32/   56]\n",
            "loss: 0.009967  [   36/   56]\n",
            "loss: 5.542310  [   40/   56]\n",
            "loss: 1.358794  [   44/   56]\n",
            "loss: 0.148120  [   48/   56]\n",
            "loss: 0.716437  [   52/   56]\n",
            "Test Error: \n",
            " Accuracy: 41.7%, Avg loss: 1.906137 \n",
            "\n",
            "Epoch 4\n",
            "-------------------------------\n",
            "loss: 0.894641  [    0/   56]\n",
            "loss: 0.669522  [    4/   56]\n",
            "loss: 0.851679  [    8/   56]\n",
            "loss: 0.294026  [   12/   56]\n",
            "loss: 1.083434  [   16/   56]\n",
            "loss: 0.006563  [   20/   56]\n",
            "loss: 5.136157  [   24/   56]\n",
            "loss: 1.529262  [   28/   56]\n",
            "loss: 3.706085  [   32/   56]\n",
            "loss: 1.698392  [   36/   56]\n",
            "loss: 1.796083  [   40/   56]\n",
            "loss: 2.054044  [   44/   56]\n",
            "loss: 5.108027  [   48/   56]\n",
            "loss: 3.995188  [   52/   56]\n",
            "Test Error: \n",
            " Accuracy: 33.3%, Avg loss: 1.030593 \n",
            "\n",
            "Epoch 5\n",
            "-------------------------------\n",
            "loss: 1.016310  [    0/   56]\n",
            "loss: 2.815530  [    4/   56]\n",
            "loss: 1.565901  [    8/   56]\n",
            "loss: 0.202409  [   12/   56]\n",
            "loss: 2.411467  [   16/   56]\n",
            "loss: 0.027033  [   20/   56]\n",
            "loss: 0.748541  [   24/   56]\n",
            "loss: 0.994832  [   28/   56]\n",
            "loss: 0.741886  [   32/   56]\n",
            "loss: 2.161843  [   36/   56]\n",
            "loss: 0.288848  [   40/   56]\n",
            "loss: 2.927443  [   44/   56]\n",
            "loss: 0.660366  [   48/   56]\n",
            "loss: 0.702933  [   52/   56]\n",
            "Test Error: \n",
            " Accuracy: 66.7%, Avg loss: 0.908323 \n",
            "\n",
            "Epoch 6\n",
            "-------------------------------\n",
            "loss: 0.442726  [    0/   56]\n",
            "loss: 1.387793  [    4/   56]\n",
            "loss: 0.776813  [    8/   56]\n",
            "loss: 0.188233  [   12/   56]\n",
            "loss: 0.265167  [   16/   56]\n",
            "loss: 1.400591  [   20/   56]\n",
            "loss: 5.177293  [   24/   56]\n",
            "loss: 1.065522  [   28/   56]\n",
            "loss: 0.717028  [   32/   56]\n",
            "loss: 2.677746  [   36/   56]\n",
            "loss: 1.880789  [   40/   56]\n",
            "loss: 1.929850  [   44/   56]\n",
            "loss: 0.740016  [   48/   56]\n",
            "loss: 1.097764  [   52/   56]\n",
            "Test Error: \n",
            " Accuracy: 41.7%, Avg loss: 1.466303 \n",
            "\n",
            "Epoch 7\n",
            "-------------------------------\n",
            "loss: 0.831907  [    0/   56]\n",
            "loss: 1.230903  [    4/   56]\n",
            "loss: 0.658057  [    8/   56]\n",
            "loss: 0.416200  [   12/   56]\n",
            "loss: 0.225026  [   16/   56]\n",
            "loss: 0.475030  [   20/   56]\n",
            "loss: 0.604392  [   24/   56]\n",
            "loss: 0.774721  [   28/   56]\n",
            "loss: 0.971329  [   32/   56]\n",
            "loss: 0.279719  [   36/   56]\n",
            "loss: 0.293622  [   40/   56]\n",
            "loss: 0.190371  [   44/   56]\n",
            "loss: 0.076544  [   48/   56]\n",
            "loss: 2.133028  [   52/   56]\n",
            "Test Error: \n",
            " Accuracy: 50.0%, Avg loss: 2.069293 \n",
            "\n",
            "Epoch 8\n",
            "-------------------------------\n",
            "loss: 3.248404  [    0/   56]\n",
            "loss: 2.165482  [    4/   56]\n",
            "loss: 0.502206  [    8/   56]\n",
            "loss: 0.637288  [   12/   56]\n",
            "loss: 0.421993  [   16/   56]\n",
            "loss: 0.500583  [   20/   56]\n",
            "loss: 1.399190  [   24/   56]\n",
            "loss: 0.241931  [   28/   56]\n",
            "loss: 1.753683  [   32/   56]\n",
            "loss: 0.143122  [   36/   56]\n",
            "loss: 0.759281  [   40/   56]\n",
            "loss: 0.883126  [   44/   56]\n",
            "loss: 1.213305  [   48/   56]\n",
            "loss: 3.514822  [   52/   56]\n",
            "Test Error: \n",
            " Accuracy: 41.7%, Avg loss: 1.042396 \n",
            "\n",
            "Epoch 9\n",
            "-------------------------------\n",
            "loss: 1.864452  [    0/   56]\n",
            "loss: 4.195363  [    4/   56]\n",
            "loss: 0.803951  [    8/   56]\n",
            "loss: 1.240502  [   12/   56]\n",
            "loss: 1.265357  [   16/   56]\n",
            "loss: 1.115436  [   20/   56]\n",
            "loss: 0.954337  [   24/   56]\n",
            "loss: 0.302321  [   28/   56]\n",
            "loss: 0.728260  [   32/   56]\n",
            "loss: 1.237954  [   36/   56]\n",
            "loss: 0.559489  [   40/   56]\n",
            "loss: 0.026346  [   44/   56]\n",
            "loss: 1.370269  [   48/   56]\n",
            "loss: 0.607336  [   52/   56]\n",
            "Test Error: \n",
            " Accuracy: 41.7%, Avg loss: 1.164088 \n",
            "\n",
            "Epoch 10\n",
            "-------------------------------\n",
            "loss: 0.647226  [    0/   56]\n",
            "loss: 0.350423  [    4/   56]\n",
            "loss: 0.637045  [    8/   56]\n",
            "loss: 0.111740  [   12/   56]\n",
            "loss: 1.427426  [   16/   56]\n",
            "loss: 0.318866  [   20/   56]\n",
            "loss: 0.124596  [   24/   56]\n",
            "loss: 0.147683  [   28/   56]\n",
            "loss: 0.141395  [   32/   56]\n",
            "loss: 0.261779  [   36/   56]\n",
            "loss: 0.678645  [   40/   56]\n",
            "loss: 0.442572  [   44/   56]\n",
            "loss: 0.166839  [   48/   56]\n",
            "loss: 0.243607  [   52/   56]\n",
            "Test Error: \n",
            " Accuracy: 41.7%, Avg loss: 1.549619 \n",
            "\n",
            "Done!\n"
          ]
        }
      ]
    },
    {
      "cell_type": "code",
      "metadata": {
        "id": "ONVgp41bTP4-"
      },
      "source": [
        ""
      ],
      "execution_count": null,
      "outputs": []
    },
    {
      "cell_type": "markdown",
      "metadata": {
        "id": "JQw5LnIrMt-B"
      },
      "source": [
        "# New Attempt \n",
        "Attempt following a youtube video : \"PyTorch Tutorial 14 - Convolutional Neural Network (CNN)\"\n"
      ]
    },
    {
      "cell_type": "code",
      "metadata": {
        "id": "tFNtSrMTM-zJ"
      },
      "source": [
        ""
      ],
      "execution_count": null,
      "outputs": []
    },
    {
      "cell_type": "code",
      "metadata": {
        "id": "3AQsGN8oNZXg"
      },
      "source": [
        ""
      ],
      "execution_count": null,
      "outputs": []
    }
  ]
}
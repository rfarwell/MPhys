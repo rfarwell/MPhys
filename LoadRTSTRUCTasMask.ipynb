{
 "cells": [
  {
   "cell_type": "code",
   "execution_count": 1,
   "metadata": {},
   "outputs": [],
   "source": [
    "\"\"\"\n",
    "The code in this cell imports all of the relevant libraries that will be used in\n",
    "the rest of the code\n",
    "\"\"\"\n",
    "import rt_utils\n",
    "import sys\n",
    "import numpy as np\n",
    "from rt_utils import RTStructBuilder\n",
    "import matplotlib.pyplot as plt"
   ]
  },
  {
   "cell_type": "code",
   "execution_count": 2,
   "metadata": {},
   "outputs": [],
   "source": [
    "\"\"\"\n",
    "The code in this cell loads in a DICOM series from 'dicom_series_path' and loads in an RTSTRUCT\n",
    "file from 'rt_struct_path'. The user should make sure the RTSTRUCT file selected is the one that\n",
    "corresponds to the chosen DICOM series. e.g. in this case both files used are for the LUNG1-001\n",
    "data set.\n",
    "\"\"\"\n",
    "# Load existing RT Struct. Requires the series path and existing RT Struct path\n",
    "rtstruct = RTStructBuilder.create_from(\n",
    "  dicom_series_path=\"LUNG1-001/CT\", \n",
    "  rt_struct_path=\"LUNG1-001/RTSTRUCT/3-2.dcm\"\n",
    ")"
   ]
  },
  {
   "cell_type": "code",
   "execution_count": 3,
   "metadata": {},
   "outputs": [
    {
     "name": "stdout",
     "output_type": "stream",
     "text": [
      "['GTV-1', 'Spinal-Cord', 'Lung-Left', 'Lung-Right']\n"
     ]
    }
   ],
   "source": [
    "\"\"\"\n",
    "The code in this cell prints the Region Of Interest (ROI) names for the user to choose from in \n",
    "the next cell.\n",
    "\"\"\"\n",
    "print(rtstruct.get_roi_names()) # View all of the ROI names from within the image"
   ]
  },
  {
   "cell_type": "code",
   "execution_count": 4,
   "metadata": {},
   "outputs": [],
   "source": [
    "\"\"\"\n",
    "The code in this cell allows the user to choose the ROI which they wish the code to mask\n",
    "\"\"\"\n",
    "# Loading the 3D Mask from within the RT Struct\n",
    "mask_3d = rtstruct.get_roi_mask_by_name(\"GTV-1\") #Put in the name of the ROI"
   ]
  },
  {
   "cell_type": "code",
   "execution_count": 5,
   "metadata": {},
   "outputs": [
    {
     "name": "stdout",
     "output_type": "stream",
     "text": [
      "134\n"
     ]
    },
    {
     "data": {
      "image/png": "[encoded data removed]",
      "text/plain": [
       "<Figure size 432x288 with 1 Axes>"
      ]
     },
     "metadata": {
      "needs_background": "light"
     },
     "output_type": "display_data"
    }
   ],
   "source": [
    "\"\"\"\n",
    "DOES NOT NEED TO BE RUN\n",
    "The code in this cell produces a plot of a user-selected slice. In the plot the ROI will appear\n",
    "yellow, and non-ROI will appear purple. Want to change this to black-and-white at some point.\n",
    "\"\"\"\n",
    "# Display one slice of the region\n",
    "first_mask_slice = mask_3d[:, :, 80] #the number defines which slice will be displayed\n",
    "print(mask_3d.shape[2]) #prints the number of slices in the image (will be used when making an interactive plot)\n",
    "plt.imshow(first_mask_slice)\n",
    "plt.show()"
   ]
  },
  {
   "cell_type": "code",
   "execution_count": null,
   "metadata": {},
   "outputs": [],
   "source": [
    "\"\"\"\n",
    "NOT COMPLETE\n",
    "I want the code in this cell to be a interactive matplotlib plot where the user can use the \n",
    "'left' and 'right' arrows to scroll through the slices of the DICOM series. Currently it\n",
    "produces plots of al the plots but the user can only 'scroll' through them by closing the\n",
    "plot window and then the next will open.\n",
    "\n",
    "The 'hashed' code is one that works for a cosine plot.\n",
    "\"\"\"\n",
    "# for i in range(mask_3d.shape[2]) :\n",
    "#    plt.title(\"Slice number \" + str(i+1))\n",
    "#    plt.imshow(mask_3d[:,:,i])\n",
    "#    plt.show()\n",
    "\n",
    "#~~~~~~~~~~~~~~~~~~~~~~~~~~~~~~~~~~~~~~~~~~~~~~~~~~~~~~~~~~~~~~~~~~~~~~~~~~~~~~~~~~\n",
    "\n",
    "\n",
    "numbers = np.arange(mask_3d.shape[2])\n",
    "slice_numbers = numbers + 1\n",
    "\n",
    "plots = mask_3d\n",
    "\n",
    "curr_pos = 0\n",
    "\n",
    "def key_event(e):\n",
    "    global curr_pos\n",
    "\n",
    "    if e.key == \"right\" :\n",
    "        curr_pos = curr_pos + 1\n",
    "    elif e.key == \"left\" :\n",
    "        curr_pos = curr_pos -1\n",
    "    else :\n",
    "        return\n",
    "    curr_pos = curr_pos % len(plots)\n",
    "\n",
    "    ax.cla()\n",
    "    ax.plot(plots[curr_pos][0], plots[curr_pos][1])\n",
    "    fig.canvas.draw()\n",
    "\n",
    "fig = plt.figure()\n",
    "fig.canvas.mpl_connect('key_press_event', key_event)\n",
    "ax = fig.add_subplot(111)\n",
    "ax.plot(t,temp_y)\n",
    "plt.show()\n",
    "\n",
    "\n",
    "\n",
    "# define your x and y arrays to be plotted\n",
    "number_of_points = 25\n",
    "t = np.linspace(start=0, stop=2*np.pi, num=number_of_points)\n",
    "number_of_intervals = 50\n",
    "delta_t = np.linspace(start = 0, stop = 2*np.pi, num = number_of_intervals)\n",
    "plots = []\n",
    "for i in range(number_of_intervals) :\n",
    "    temp_y = np.cos(t+delta_t[i-1])\n",
    "    temp_array = (t,temp_y)\n",
    "    plots.append(temp_array)\n",
    "\n",
    "\n",
    "\n",
    "\n",
    "# y1 = np.cos(t+0.1)\n",
    "# y2 = np.cos(t+0.2)\n",
    "# y3 = np.cos(t+0.3)\n",
    "# plots = [(t,y1), (t,y2), (t,y3)]\n",
    "\n",
    "# now the real code :) \n",
    "curr_pos = 0\n",
    "\n",
    "def key_event(e):\n",
    "    global curr_pos\n",
    "\n",
    "    if e.key == \"right\":\n",
    "        curr_pos = curr_pos + 1\n",
    "    elif e.key == \"left\":\n",
    "        curr_pos = curr_pos - 1\n",
    "    else:\n",
    "        return\n",
    "    curr_pos = curr_pos % len(plots)\n",
    "\n",
    "    ax.cla()\n",
    "    ax.plot(plots[curr_pos][0], plots[curr_pos][1])\n",
    "    fig.canvas.draw()\n",
    "\n",
    "fig = plt.figure()\n",
    "fig.canvas.mpl_connect('key_press_event', key_event)\n",
    "ax = fig.add_subplot(111)\n",
    "ax.plot(t,temp_y)\n",
    "plt.show()"
   ]
  },
  {
   "cell_type": "code",
   "execution_count": 13,
   "metadata": {},
   "outputs": [
    {
     "data": {
      "image/png": "[encoded data removed]",
      "text/plain": [
       "<Figure size 432x288 with 1 Axes>"
      ]
     },
     "metadata": {
      "needs_background": "light"
     },
     "output_type": "display_data"
    }
   ],
   "source": [
    "\"\"\"\n",
    "The code in this cell produces a matplotlib plot of the mask slices which\n",
    "can be 'scrolled' through using the mouse scroll wheel. \n",
    "NOTE: this does not work in a Jupyter notebook and must be run in a pop up for\n",
    "it to work. I need to see if I can fix this.\n",
    "\"\"\"\n",
    "class IndexTracker:\n",
    "    def __init__(self, ax, X):\n",
    "        self.ax = ax\n",
    "        ax.set_title('use scroll wheel to navigate images')\n",
    "\n",
    "        self.X = X\n",
    "        rows, cols, self.slices = X.shape\n",
    "        self.ind = self.slices//2\n",
    "\n",
    "        self.im = ax.imshow(self.X[:, :, self.ind])\n",
    "        self.update()\n",
    "\n",
    "    def on_scroll(self, event):\n",
    "        print(\"%s %s\" % (event.button, event.step))\n",
    "        if event.button == 'up':\n",
    "            self.ind = (self.ind + 1) % self.slices\n",
    "        else:\n",
    "            self.ind = (self.ind - 1) % self.slices\n",
    "        self.update()\n",
    "\n",
    "    def update(self):\n",
    "        self.im.set_data(self.X[:, :, self.ind])\n",
    "        self.ax.set_ylabel('slice %s' % (self.ind +1))\n",
    "        self.im.axes.figure.canvas.draw()\n",
    "\n",
    "fig, ax = plt.subplots(1, 1)\n",
    "\n",
    "X = mask_3d\n",
    "\n",
    "tracker = IndexTracker(ax, mask_3d)\n",
    "\n",
    "\n",
    "fig.canvas.mpl_connect('scroll_event', tracker.on_scroll)\n",
    "plt.show()"
   ]
  },
  {
   "cell_type": "code",
   "execution_count": null,
   "metadata": {},
   "outputs": [],
   "source": [
    "\"\"\"\n",
    "The code in this cell prints all of the elements of mask_3d. I think this is limited \n",
    "by the size of the terminal so the user won't see all of the elements anyway.\n",
    "\"\"\"\n",
    "with np.printoptions(threshold=sys.maxsize): #could also use threshold = np.inf\n",
    "      print(mask_3d)"
   ]
  },
  {
   "cell_type": "code",
   "execution_count": null,
   "metadata": {},
   "outputs": [],
   "source": [
    "\"\"\"\n",
    "NOT NECESSARY TO BE RUN\n",
    "The code in this cell runs through a user specified slice and counts the number of 'True'\n",
    "elements.\n",
    "\"\"\"\n",
    "true_counter = 0\n",
    "mask_test = mask_3d[:,:,80] #Change the number to choose the slice\n",
    "for row in mask_test:\n",
    "    for cell in row:\n",
    "        cell = str(cell)\n",
    "        if cell == \"True\" :\n",
    "          true_counter +=1\n",
    "          print(true_counter)\n",
    "          print(\"True\")\n",
    "print(true_counter)\n",
    "\n",
    "#print(np.arange(mask_3d.shape[2]))"
   ]
  },
  {
   "cell_type": "code",
   "execution_count": null,
   "metadata": {},
   "outputs": [],
   "source": [
    "\"\"\"\n",
    "The code below will iterate through all the elements in a mask_3d variable (as made\n",
    "earlier in the code). It counts the number of 'True' elements in each slice of the DICOM.\n",
    "It tells the user how many 'True' elements there are in each slice. This was initially\n",
    "made to test if there were any non 'False' elements but could be used in the future on\n",
    "resampled DICOM files, where each voxel is 1mm*1mm*1mm, so has a volume of 1mm^3, to calculate\n",
    "volume of the tumour.\n",
    "\"\"\"\n",
    "\n",
    "numbers = np.arange(mask_3d.shape[2])\n",
    "slice_numbers = numbers + 1\n",
    "print(slice_numbers)\n",
    "\n",
    "true_counter=0\n",
    "for i in (slice_numbers - 1):\n",
    "  true_counter_i = 0\n",
    "  mask_test = mask_3d[:,:,i]\n",
    "  for row in mask_test:\n",
    "    for cell in row:\n",
    "        cell = str(cell)\n",
    "        if cell == \"True\" :\n",
    "          true_counter_i +=1\n",
    "          #print(true_counter_i)\n",
    "          #print(\"True\")\n",
    "  true_counter += true_counter_i\n",
    "  print(\"The number of True in slice \" + str(i+1) + \" is \" + str(true_counter_i))\n",
    "print(true_counter)"
   ]
  }
 ],
 "metadata": {
  "interpreter": {
   "hash": "1af5c7ba4dee4ee8110c722f91ce888b02ee92b167dae2041da9217f1597362a"
  },
  "kernelspec": {
   "display_name": "Python 3.8.12 64-bit ('python38': conda)",
   "name": "python3"
  },
  "language_info": {
   "codemirror_mode": {
    "name": "ipython",
    "version": 3
   },
   "file_extension": ".py",
   "mimetype": "text/x-python",
   "name": "python",
   "nbconvert_exporter": "python",
   "pygments_lexer": "ipython3",
   "version": "3.8.12"
  },
  "orig_nbformat": 4
 },
 "nbformat": 4,
 "nbformat_minor": 2
}

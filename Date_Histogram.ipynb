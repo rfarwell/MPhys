{
  "nbformat": 4,
  "nbformat_minor": 0,
  "metadata": {
    "colab": {
      "name": "Date-Histogram.ipynb",
      "provenance": [],
      "authorship_tag": "ABX9TyOkktLdt/pIfQ24RjU4OpC/",
      "include_colab_link": true
    },
    "kernelspec": {
      "name": "python3",
      "display_name": "Python 3"
    },
    "language_info": {
      "name": "python"
    }
  },
  "cells": [
    {
      "cell_type": "markdown",
      "metadata": {
        "id": "view-in-github",
        "colab_type": "text"
      },
      "source": [
        "<a href=\"https://colab.research.google.com/github/rfarwell/MPhys/blob/main/Date_Histogram.ipynb\" target=\"_parent\"><img src=\"https://colab.research.google.com/assets/colab-badge.svg\" alt=\"Open In Colab\"/></a>"
      ]
    },
    {
      "cell_type": "markdown",
      "source": [
        "# **Histogram of death timepoints**\n",
        "This code produces histograms for the frequency of death occurring within certain timepoints. It has been designed to allow for the production of three different histograms (only differing by bin size). The three time intervals used here are: 1 year, 6 months and 3 months. "
      ],
      "metadata": {
        "id": "P77n20IsJ2vY"
      }
    },
    {
      "cell_type": "markdown",
      "source": [
        "Import relevant libraries and mount to GoogleDrive"
      ],
      "metadata": {
        "id": "W9i6BQG866TF"
      }
    },
    {
      "cell_type": "code",
      "execution_count": 3,
      "metadata": {
        "colab": {
          "base_uri": "https://localhost:8080/"
        },
        "id": "CTT94CxZJsKK",
        "outputId": "6c5bc5ce-3291-43a8-fa9b-9db61fec9c21"
      },
      "outputs": [
        {
          "output_type": "stream",
          "name": "stdout",
          "text": [
            "Drive already mounted at /content/gdrive; to attempt to forcibly remount, call drive.mount(\"/content/gdrive\", force_remount=True).\n"
          ]
        }
      ],
      "source": [
        "import numpy as np\n",
        "import matplotlib.pyplot\n",
        "from google.colab import drive\n",
        "import os\n",
        "import matplotlib.pyplot as plt\n",
        "drive.mount('/content/gdrive')"
      ]
    },
    {
      "cell_type": "markdown",
      "source": [
        "Define the filepath to the clinical data csv file"
      ],
      "metadata": {
        "id": "TlBkcTQJ7KGX"
      }
    },
    {
      "cell_type": "code",
      "source": [
        "project_folder = \"/content/gdrive/MyDrive/Data\"\n",
        "clinical_data_filename = \"NSCLC-Radiomics-Clinical-Data.csv\"\n",
        "print(os.path.join(project_folder, clinical_data_filename))"
      ],
      "metadata": {
        "colab": {
          "base_uri": "https://localhost:8080/"
        },
        "id": "PeBwLrjhLXRL",
        "outputId": "c141907a-8690-4b0d-ebe1-be1ca203a574"
      },
      "execution_count": 4,
      "outputs": [
        {
          "output_type": "stream",
          "name": "stdout",
          "text": [
            "/content/gdrive/MyDrive/Data/NSCLC-Radiomics-Clinical-Data.csv\n"
          ]
        }
      ]
    },
    {
      "cell_type": "markdown",
      "source": [
        "Select the relevant information from the metadata file. The relevant information is the patient ID, dead statuses and the timepoint of the most recent patient follow-up."
      ],
      "metadata": {
        "id": "VhorhZeU873A"
      }
    },
    {
      "cell_type": "code",
      "source": [
        "metadata_filepath = os.path.join(project_folder, clinical_data_filename)\n",
        "#print(f'Metadata_filepath: {metadata_filepath}')\n",
        "\n",
        "metadata = np.genfromtxt(metadata_filepath, comments = '%', dtype=\"str\", delimiter=\",\")\n",
        "#print(f'Metadata: {metadata}')\n",
        "\n",
        "patient_IDs = metadata[:,0]\n",
        "dead_statuses = metadata[:,9]\n",
        "#print(dead_statuses)\n",
        "timepoints = metadata[:,8]"
      ],
      "metadata": {
        "id": "Oy99IYPwL7qn"
      },
      "execution_count": 68,
      "outputs": []
    },
    {
      "cell_type": "markdown",
      "source": [
        "Creating an array of when all the dead patients died. This will be used for the production of a histogram."
      ],
      "metadata": {
        "id": "n8toXrsR91kI"
      }
    },
    {
      "cell_type": "code",
      "source": [
        "clinical_data = []\n",
        "dead_dates = [] # An array of when all the dead patients died\n",
        "alive_dates = []\n",
        "for i in range(len(patient_IDs)) :\n",
        "  if dead_statuses[i] == '1' :\n",
        "    #print(dead_statuses[i], timepoints[i])\n",
        "    dead_dates.append(timepoints[i])\n",
        "  elif dead_statuses[i] == '0' :\n",
        "    alive_dates.append(timepoints[i])\n",
        "\n",
        "dead_dates = np.array(dead_dates, dtype = np.int32)\n",
        "alive_dates = np.array(alive_dates, dtype = np.int32)\n",
        "# print(dead_dates)\n",
        "# print(alive_dates)\n"
      ],
      "metadata": {
        "id": "tT8C4amFpYd0"
      },
      "execution_count": 91,
      "outputs": []
    },
    {
      "cell_type": "code",
      "source": [
        "histogram_range = 10*365 #10 years\n",
        "#number_of_histogram_bins = 10 #1 bin per year\n",
        "#number_of_histogram_bins = 20 #2 bin per year\n",
        "number_of_histogram_bins = 40 #4 bin per year\n",
        "\n",
        "# plt.figure(figsize=(15,10))\n",
        "# plt.hist(dead_dates, range = (0, histogram_range), bins = number_of_histogram_bins)\n",
        "# plt.xticks(np.arange(0, histogram_range, histogram_range/number_of_histogram_bins), fontsize = 15, rotation = 90)\n",
        "# plt.yticks(fontsize = 15)\n",
        "# plt.xlabel('Timepoints', fontsize = 20)\n",
        "# plt.ylabel('Frequency', fontsize = 20)\n",
        "# plt.title('Frequency of death dates with bin size of 3 months', fontsize = 20)\n",
        "# plt.show()"
      ],
      "metadata": {
        "id": "w6D4pZaPvTz2"
      },
      "execution_count": 97,
      "outputs": []
    },
    {
      "cell_type": "markdown",
      "source": [
        "Making a different histogram to account for people who are alive at the end of 8 years. This means that we will have 9 categories: one for each year, up to 8 years and then one for anyone who lived longer."
      ],
      "metadata": {
        "id": "mW_5LGwb_995"
      }
    },
    {
      "cell_type": "code",
      "source": [
        "import math\n",
        "classes_of_death_time = [] #Create empty array that I will append to later in the code\n",
        "interval = 365\n",
        "right_censored_counter = 0\n",
        "death_categories = []\n",
        "for i in range(len(dead_dates)) :\n",
        "  if 0 < dead_dates[i] <= 365*8 :\n",
        "    death_categories.append(math.ceil(dead_dates[i]/365)-0.5)\n",
        "  elif 365*8 < dead_dates[i] :\n",
        "    death_categories.append(8.5)\n",
        "\n",
        "for i in range(len(alive_dates)) :\n",
        "  if alive_dates[i] > 365*8 :\n",
        "    death_categories.append(8.5)\n",
        "  else:\n",
        "    right_censored_counter += 1\n",
        "\n",
        "print(f'Number of right-censored patients: {right_censored_counter}. This means that they were last seen alive before 8 years and so we have no information about them at the 8 year point so are ignored.')\n",
        "\n",
        "\n",
        "plt.figure(figsize=(15,10))\n",
        "plt.hist(death_categories, range = (0, 9), bins = 9, cumulative = False)\n",
        "plt.xticks(np.arange(0, 9, 1), fontsize = 15, rotation = 90)\n",
        "plt.yticks(fontsize = 15)\n",
        "plt.xlabel('Category of death', fontsize = 20)\n",
        "plt.ylabel('Frequency', fontsize = 20)\n",
        "plt.title('Frequency of death categories', fontsize = 20)\n",
        "plt.show()"
      ],
      "metadata": {
        "colab": {
          "base_uri": "https://localhost:8080/",
          "height": 652
        },
        "id": "v3ABk-jEAqnD",
        "outputId": "63892bb6-915a-4aae-bc0d-84f0ea254a9d"
      },
      "execution_count": 107,
      "outputs": [
        {
          "output_type": "stream",
          "name": "stdout",
          "text": [
            "Number of right-censored patients: 16. This means that they were last seen alive before 8 years and so we have no information about them at the 8 year point so are ignored.\n"
          ]
        },
        {
          "output_type": "display_data",
          "data": {
            "image/png": "[encoded data removed]",
            "text/plain": [
              "<Figure size 1080x720 with 1 Axes>"
            ]
          },
          "metadata": {
            "needs_background": "light"
          }
        }
      ]
    }
  ]
}
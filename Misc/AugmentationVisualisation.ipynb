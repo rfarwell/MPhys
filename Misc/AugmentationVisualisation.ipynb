{
  "nbformat": 4,
  "nbformat_minor": 0,
  "metadata": {
    "colab": {
      "name": "AugmentationVisualisation.ipynb",
      "provenance": [],
      "collapsed_sections": [],
      "authorship_tag": "ABX9TyOPlq8H7aG/W2suhE9vMqG4",
      "include_colab_link": true
    },
    "kernelspec": {
      "name": "python3",
      "display_name": "Python 3"
    },
    "language_info": {
      "name": "python"
    }
  },
  "cells": [
    {
      "cell_type": "markdown",
      "metadata": {
        "id": "view-in-github",
        "colab_type": "text"
      },
      "source": [
        "<a href=\"https://colab.research.google.com/github/rfarwell/MPhys/blob/main/AugmentationVisualisation.ipynb\" target=\"_parent\"><img src=\"https://colab.research.google.com/assets/colab-badge.svg\" alt=\"Open In Colab\"/></a>"
      ]
    },
    {
      "cell_type": "markdown",
      "source": [
        "# This code will allow for the visualisation of augmentations."
      ],
      "metadata": {
        "id": "LTopr10G_d2t"
      }
    },
    {
      "cell_type": "markdown",
      "source": [
        "Importing relevant libraries (note that not all of these will be necessary, they are just copied from the full CNN code)"
      ],
      "metadata": {
        "id": "E5cifWnu_yOB"
      }
    },
    {
      "cell_type": "code",
      "source": [
        "!pip install torch torchvision\n",
        "!pip install opencv-contrib-python\n",
        "!pip install scikit-learn\n",
        "!pip install SimpleITK\n",
        "\n",
        "import numpy as np\n",
        "import random\n",
        "import os\n",
        "import matplotlib.pyplot as plt\n",
        "import SimpleITK as sitk\n",
        "import torch\n",
        "\n",
        "from mpl_toolkits.mplot3d import Axes3D\n",
        "from torch.nn import Module\n",
        "from torch.nn import Conv3d\n",
        "from torch.nn import Linear\n",
        "from torch.nn import MaxPool2d\n",
        "from torch.nn import ReLU\n",
        "from torch.nn import LogSoftmax\n",
        "from torch import flatten\n",
        "from torch import nn\n",
        "from torch import reshape\n",
        "from torch.utils.data import Dataset\n",
        "from torch.utils.data import DataLoader\n",
        "from torchvision import transforms\n",
        "from torchvision import datasets\n",
        "from torch.optim import Adam\n",
        "import torchvision.models as models\n",
        "from torch.autograd import Variable\n",
        "from torch.utils.tensorboard import SummaryWriter\n",
        "from scipy.ndimage import zoom, rotate\n",
        "\n",
        "tb = SummaryWriter()"
      ],
      "metadata": {
        "colab": {
          "base_uri": "https://localhost:8080/"
        },
        "id": "mEs42c-N_Yrl",
        "outputId": "f9601836-fa94-4170-b17d-bcb4057d0e9c"
      },
      "execution_count": null,
      "outputs": [
        {
          "output_type": "stream",
          "name": "stdout",
          "text": [
            "Requirement already satisfied: torch in /usr/local/lib/python3.7/dist-packages (1.10.0+cu111)\n",
            "Requirement already satisfied: torchvision in /usr/local/lib/python3.7/dist-packages (0.11.1+cu111)\n",
            "Requirement already satisfied: typing-extensions in /usr/local/lib/python3.7/dist-packages (from torch) (3.10.0.2)\n",
            "Requirement already satisfied: pillow!=8.3.0,>=5.3.0 in /usr/local/lib/python3.7/dist-packages (from torchvision) (7.1.2)\n",
            "Requirement already satisfied: numpy in /usr/local/lib/python3.7/dist-packages (from torchvision) (1.21.5)\n",
            "Requirement already satisfied: opencv-contrib-python in /usr/local/lib/python3.7/dist-packages (4.1.2.30)\n",
            "Requirement already satisfied: numpy>=1.14.5 in /usr/local/lib/python3.7/dist-packages (from opencv-contrib-python) (1.21.5)\n",
            "Requirement already satisfied: scikit-learn in /usr/local/lib/python3.7/dist-packages (1.0.2)\n",
            "Requirement already satisfied: joblib>=0.11 in /usr/local/lib/python3.7/dist-packages (from scikit-learn) (1.1.0)\n",
            "Requirement already satisfied: threadpoolctl>=2.0.0 in /usr/local/lib/python3.7/dist-packages (from scikit-learn) (3.1.0)\n",
            "Requirement already satisfied: numpy>=1.14.6 in /usr/local/lib/python3.7/dist-packages (from scikit-learn) (1.21.5)\n",
            "Requirement already satisfied: scipy>=1.1.0 in /usr/local/lib/python3.7/dist-packages (from scikit-learn) (1.4.1)\n",
            "Requirement already satisfied: SimpleITK in /usr/local/lib/python3.7/dist-packages (2.1.1)\n"
          ]
        }
      ]
    },
    {
      "cell_type": "markdown",
      "source": [
        "Mount to GoogleDrive and 'cd' to the relevant folder."
      ],
      "metadata": {
        "id": "JHn4viHb_8wy"
      }
    },
    {
      "cell_type": "code",
      "source": [
        "from google.colab import drive\n",
        "drive.mount('/content/gdrive')\n",
        "%cd /content/gdrive/MyDrive/"
      ],
      "metadata": {
        "colab": {
          "base_uri": "https://localhost:8080/"
        },
        "id": "Xch8oEDhABLL",
        "outputId": "fd89d6db-fb36-4de9-99e9-4fe45f91a2a0"
      },
      "execution_count": null,
      "outputs": [
        {
          "output_type": "stream",
          "name": "stdout",
          "text": [
            "Drive already mounted at /content/gdrive; to attempt to forcibly remount, call drive.mount(\"/content/gdrive\", force_remount=True).\n",
            "/content/gdrive/MyDrive\n"
          ]
        }
      ]
    },
    {
      "cell_type": "markdown",
      "source": [
        "Connect to a GPU if it is available and define the file path to the metadata file"
      ],
      "metadata": {
        "id": "LL01LWYIBrsD"
      }
    },
    {
      "cell_type": "code",
      "source": [
        "# Connect to GPU is available\n",
        "device = 'cuda' if torch.cuda.is_available() else 'cpu'\n",
        "print(f'Using {device} device')\n",
        "# /content/gdrive/MyDrive/MPhys/Data/COLAB-Clinical-Data.csv\n",
        "# Specify project folder location\n",
        "project_folder = \"/content/gdrive/MyDrive/Data\"\n",
        "clinical_data_filename = \"NSCLC-Radiomics-Clinical-Data.csv\"\n",
        "print(os.path.join(project_folder, clinical_data_filename))"
      ],
      "metadata": {
        "colab": {
          "base_uri": "https://localhost:8080/"
        },
        "id": "_Ev2bAiCAl1_",
        "outputId": "c54b9f2f-c1cf-43b1-ab16-c0dad8acbec9"
      },
      "execution_count": null,
      "outputs": [
        {
          "output_type": "stream",
          "name": "stdout",
          "text": [
            "Using cpu device\n",
            "/content/gdrive/MyDrive/Data/NSCLC-Radiomics-Clinical-Data.csv\n"
          ]
        }
      ]
    },
    {
      "cell_type": "markdown",
      "source": [
        "Open metadata file"
      ],
      "metadata": {
        "id": "LKqEJhjAAuvP"
      }
    },
    {
      "cell_type": "code",
      "source": [
        "metadata_file = os.path.join(project_folder, clinical_data_filename)\n",
        "print(f'metadata_file path: {metadata_file}')\n",
        "metadata = np.genfromtxt(metadata_file, comments = '%', dtype=\"str\", delimiter=\",\")\n",
        "print(f\"Length of metadata array is {len(metadata)}\")"
      ],
      "metadata": {
        "colab": {
          "base_uri": "https://localhost:8080/"
        },
        "id": "cODaVZk8AzR5",
        "outputId": "976c45f2-7f69-4fe0-c853-39dd198cabed"
      },
      "execution_count": null,
      "outputs": [
        {
          "output_type": "stream",
          "name": "stdout",
          "text": [
            "metadata_file path: /content/gdrive/MyDrive/Data/NSCLC-Radiomics-Clinical-Data.csv\n",
            "Length of metadata array is 400\n"
          ]
        }
      ]
    },
    {
      "cell_type": "markdown",
      "source": [
        "Creating array that will be used to bring in the relevant CT images ready for the visualisation of augmentation"
      ],
      "metadata": {
        "id": "1X9D5cSPD2mB"
      }
    },
    {
      "cell_type": "markdown",
      "source": [
        "Defining transforms and image dataset classes. Also define window and levelling function (normalisation included in this)."
      ],
      "metadata": {
        "id": "z7os27TJEcqh"
      }
    },
    {
      "cell_type": "code",
      "source": [
        "########################### CREATING ARRAYS FOR PATIENT ID AND DEAD STATUS ################################# \n",
        "patient_IDs = np.array(metadata[:,0])\n",
        "#print(patient_IDs)\n",
        "shortened_patient_IDs = patient_IDs[63:64] # Choosing which patient data to load for the augmentation visualisation\n",
        "print(shortened_patient_IDs)\n",
        "\n",
        "dead_statuses = np.array(metadata[:,9], dtype = np.int32)\n",
        "shortened_dead_statuses = dead_statuses[63:64] # This slice should be the same as the one above\n",
        "print(shortened_dead_statuses)\n",
        "\n",
        "total_array = []\n",
        "\n",
        "for i in range(len(shortened_patient_IDs)) :\n",
        "  total_array.append((shortened_patient_IDs[i], shortened_dead_statuses[i]))\n",
        "\n",
        "print(total_array)\n",
        "############################################################################################################\n",
        "\n",
        "def window_and_level(image, level = -600, window = 1500) :\n",
        "  maxval = level + window/2\n",
        "  minval = level - window/2\n",
        "  wld = np.clip(image, minval, maxval)\n",
        "  wld -=minval\n",
        "  wld *= 1/window\n",
        "  return wld\n",
        "\n",
        "transform = transforms.Compose(\n",
        "    [transforms.ToTensor()]\n",
        ")\n",
        "\n",
        "######################################## CREATING IMAGE DATASET CLASS ######################################\n",
        "\"\"\"\n",
        "This includes 4 augmentations that can be applied: Shift, rotation, scaling, flip l-r.\n",
        "\n",
        "\"\"\"\n",
        "class ImageDataset(Dataset) :\n",
        "  def __init__(self, annotations, img_dir, transform = transform, target_transform = None, shift_augment = True, rotate_augment = True, scale_augment = True, flip_augment = True) :\n",
        "    self.img_labels = annotations\n",
        "    self.img_dir = img_dir\n",
        "    self.transform = transform\n",
        "    self.target_transform = target_transform\n",
        "    self.shifts = shift_augment\n",
        "    self.rotations = rotate_augment\n",
        "    self.flips = flip_augment\n",
        "    self.scales = scale_augment\n",
        "    print(self.img_labels)\n",
        "\n",
        "  def __len__(self) :\n",
        "    return len(self.img_labels)\n",
        "\n",
        "  def __getitem__(self,idx) :\n",
        "    img_path = os.path.join(self.img_dir, self.img_labels[idx][0] + \"-GTV-1.nii\" )\n",
        "    image_sitk = sitk.ReadImage(img_path)\n",
        "    # ID = self.img_labels[idx][0]\n",
        "    # print(f'ID: {ID}')\n",
        "    image = sitk.GetArrayFromImage(image_sitk)\n",
        "    label = self.img_labels[idx][1]\n",
        "\n",
        "    # Augmentations\n",
        "    if self.shifts:\n",
        "      mx_x, mx_yz = 10, 10 \n",
        "      # find shift values\n",
        "      cc_shift, ap_shift, lr_shift = random.randint(-mx_x,mx_x), random.randint(-mx_yz,mx_yz), random.randint(-mx_yz,mx_yz)\n",
        "      # pad for shifting into\n",
        "      image = np.pad(image, pad_width=((mx_x,mx_x),(mx_yz,mx_yz),(mx_yz,mx_yz)), mode='constant', constant_values=-1024) # original is zero but appears to work better with -1024 (HU of air)\n",
        "      # crop to complete shift\n",
        "      image = image[mx_x+cc_shift:264+mx_x+cc_shift, mx_yz+ap_shift:264+mx_yz+ap_shift, mx_yz+lr_shift:264+mx_yz+lr_shift]\n",
        "\n",
        "    if self.rotations and random.random() < 0.5 : # normal is 0.5\n",
        "      roll_angle = np.clip(np.random.normal(loc=0,scale=3), -15, 15)\n",
        "      print(f'Rotation by angle {roll_angle} applied.')\n",
        "      #print(roll_angle)\n",
        "      image = self.rotation(image, roll_angle, rotation_plane=(1,2))\n",
        "\n",
        "    if self.scales and random.random() < 0.5 : # normal is 0.5\n",
        "      # same here -> zoom between 80-120%\n",
        "      scale_factor = np.clip(np.random.normal(loc=1.0,scale=0.05), 0.7, 1.3)\n",
        "      print(f'Scaled by factor {scale_factor}.')\n",
        "      image = self.scale(image, scale_factor)\n",
        "    \n",
        "    if self.flips and random.random() < 0.5 : # normal is 0.5\n",
        "        print(f'Left-right flip applied')\n",
        "        image = np.flipud(image)\n",
        "    \n",
        "    image = window_and_level(image)\n",
        "\n",
        "    if self.transform :\n",
        "      image = self.transform(image)\n",
        "    if self.target_transform :\n",
        "      label = self.target_transform(label)\n",
        "    return image,label\n",
        "  \n",
        "  def rotation(self, image, rotation_angle, rotation_plane):\n",
        "      # rotate the image or mask using scipy rotate function\n",
        "      order, cval = (3, -1024)\n",
        "      return rotate(input=image, angle=rotation_angle, axes=rotation_plane, reshape=False, order=order, mode='constant', cval=cval)\n",
        "    \n",
        "  def scale(self, image, scale_factor):\n",
        "      # scale the image or mask using scipy zoom function\n",
        "      order, cval = (3, -1024)\n",
        "      height, width, depth = image.shape\n",
        "      zheight = int(np.round(scale_factor*height))\n",
        "      zwidth = int(np.round(scale_factor*width))\n",
        "      zdepth = int(np.round(scale_factor*depth))\n",
        "      # zoomed out\n",
        "      if scale_factor < 1.0:\n",
        "          new_image = np.full_like(image, cval)\n",
        "          ud_buffer = (height-zheight) // 2\n",
        "          ap_buffer = (width-zwidth) // 2\n",
        "          lr_buffer = (depth-zdepth) // 2\n",
        "          new_image[ud_buffer:ud_buffer+zheight, ap_buffer:ap_buffer+zwidth, lr_buffer:lr_buffer+zdepth] = zoom(input=image, zoom=scale_factor, order=order, mode='constant', cval=cval)[0:zheight, 0:zwidth, 0:zdepth]\n",
        "          return new_image\n",
        "      elif scale_factor > 1.0:\n",
        "          new_image = zoom(input=image, zoom=scale_factor, order=order, mode='constant', cval=cval)[0:zheight, 0:zwidth, 0:zdepth]\n",
        "          ud_extra = (new_image.shape[0] - height) // 2\n",
        "          ap_extra = (new_image.shape[1] - width) // 2\n",
        "          lr_extra = (new_image.shape[2] - depth) // 2\n",
        "          new_image = new_image[ud_extra:ud_extra+height, ap_extra:ap_extra+width, lr_extra:lr_extra+depth]\n",
        "          return new_image\n",
        "      return image\n",
        "############################################################################################################\n",
        "test_data = ImageDataset(total_array, os.path.join(project_folder, \"Textured_Masks\"), transform = transforms.ToTensor())\n",
        "test_dataloader = DataLoader(test_data, batch_size = 4, shuffle = False)\n",
        "\n",
        "data = next(iter(test_dataloader))\n",
        "#print(data[0][0].numpy())\n",
        "array = data[0][0].numpy()\n",
        "fig = plt.figure()\n",
        "ax = fig.add_subplot(111, projection='3d')\n",
        "print(array[0][0][0])\n",
        "\n",
        "x,y,z = np.where(array > array[0][0][0])\n",
        "#x,y,z = np.where(array > 0.9)\n",
        "ax.scatter(x, y, z, c=z, alpha=1)\n",
        "#ax.contour3D(x,y,z,50, cmap = 'binary')\n",
        "print(len(array))\n",
        "#ax.view_init(20, 0)\n",
        "\n",
        "ax.set_xlim(0,len(array))\n",
        "ax.set_ylim(0,len(array))\n",
        "ax.set_zlim(0,len(array))"
      ],
      "metadata": {
        "colab": {
          "base_uri": "https://localhost:8080/",
          "height": 386
        },
        "id": "nTH411tJ5SIh",
        "outputId": "88d95654-56fb-4977-f01c-60550bca31f8"
      },
      "execution_count": null,
      "outputs": [
        {
          "output_type": "stream",
          "name": "stdout",
          "text": [
            "['LUNG1-069']\n",
            "[1]\n",
            "[('LUNG1-069', 1)]\n",
            "[('LUNG1-069', 1)]\n",
            "Left-right flip applied\n",
            "0.21733333\n",
            "264\n"
          ]
        },
        {
          "output_type": "execute_result",
          "data": {
            "text/plain": [
              "(0.0, 264.0)"
            ]
          },
          "metadata": {},
          "execution_count": 152
        },
        {
          "output_type": "display_data",
          "data": {
            "image/png": "[encoded data removed]",
            "text/plain": [
              "<Figure size 432x288 with 1 Axes>"
            ]
          },
          "metadata": {
            "needs_background": "light"
          }
        }
      ]
    }
  ]
}